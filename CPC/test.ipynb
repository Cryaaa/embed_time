{
 "cells": [
  {
   "cell_type": "code",
   "execution_count": null,
   "metadata": {},
   "outputs": [],
   "source": [
    "import os\n",
    "\n",
    "import numpy as np\n",
    "import torch\n",
    "import torchvision\n",
    "from tqdm import tqdm\n",
    "import matplotlib.pyplot as plt\n",
    "\n",
    "from models.nn import ShiftedConv\n",
    "from models.convnext import ConvNeXt\n",
    "import cpc"
   ]
  },
  {
   "cell_type": "code",
   "execution_count": null,
   "metadata": {},
   "outputs": [],
   "source": [
    "GPU = 0\n",
    "n_test = 100\n",
    "seed = 1\n",
    "crop_size = 280\n",
    "batch_size = 32\n",
    "version = 10\n",
    "checkpoint_dir = f\"checkpoints/version_{str(version)}\"\n",
    "latent_dims = 2\n",
    "\n",
    "torch.manual_seed(seed)\n",
    "device = torch.device(f\"cuda:{str(GPU)}\")"
   ]
  },
  {
   "cell_type": "code",
   "execution_count": null,
   "metadata": {},
   "outputs": [],
   "source": [
    "class Dataset(torch.utils.data.Dataset):\n",
    "    def __init__(self, images, transform=None):\n",
    "        self.images = images\n",
    "        self.n_images = len(images)\n",
    "        self.transform = transform\n",
    "\n",
    "    def __len__(self):\n",
    "        return self.n_images\n",
    "\n",
    "    def __getitem__(self, idx):\n",
    "        image = self.images[idx]\n",
    "        if self.transform:\n",
    "            image = self.transform(image)\n",
    "        return image"
   ]
  },
  {
   "cell_type": "code",
   "execution_count": null,
   "metadata": {},
   "outputs": [],
   "source": [
    "mnist = torchvision.datasets.MNIST(\"./data\", download=True)"
   ]
  },
  {
   "cell_type": "code",
   "execution_count": null,
   "metadata": {},
   "outputs": [],
   "source": [
    "classes = []\n",
    "for i in range(10):\n",
    "    current_class = (mnist.targets == i).nonzero()\n",
    "    classes.append(current_class[:, 0])\n",
    "\n",
    "n_images = 1000\n",
    "\n",
    "sorted_mnist = []\n",
    "classes_ok = True\n",
    "while classes_ok and len(sorted_mnist) < n_images:\n",
    "    time_series = []\n",
    "    for i in range(10):\n",
    "        img = mnist[classes[i][-1].item()][0]\n",
    "        img = torchvision.transforms.functional.pil_to_tensor(img)[None]\n",
    "        img = torch.nn.functional.interpolate(img, scale_factor=10)\n",
    "        time_series.append(img)\n",
    "        classes[i] = classes[i][:-1]\n",
    "        if len(classes[i]) == 0:\n",
    "            classes_ok = False\n",
    "    time_series = torch.stack(time_series, dim=2)\n",
    "    sorted_mnist.append(time_series)\n",
    "sorted_mnist = torch.cat(sorted_mnist, dim=0).to(torch.float)\n",
    "\n",
    "sorted_mnist = sorted_mnist.unfold(2, 5, 5)\n",
    "sorted_mnist = sorted_mnist.movedim(2, 1)\n",
    "sorted_mnist = sorted_mnist.flatten(0, 1)\n",
    "sorted_mnist = sorted_mnist.movedim(4, 2)\n",
    "print(sorted_mnist.shape)\n",
    "\n",
    "sorted_mnist -= sorted_mnist.mean()\n",
    "sorted_mnist /= sorted_mnist.std()\n",
    "\n",
    "n_time = sorted_mnist.shape[2]"
   ]
  },
  {
   "cell_type": "code",
   "execution_count": null,
   "metadata": {},
   "outputs": [],
   "source": [
    "transform = torchvision.transforms.RandomCrop(crop_size)\n",
    "\n",
    "test_set = Dataset(sorted_mnist[:n_test], transform=transform)\n",
    "\n",
    "test_loader = torch.utils.data.DataLoader(\n",
    "    test_set,\n",
    "    batch_size=batch_size,\n",
    "    shuffle=False,\n",
    "    pin_memory=True,\n",
    ")"
   ]
  },
  {
   "cell_type": "code",
   "execution_count": null,
   "metadata": {},
   "outputs": [],
   "source": [
    "encoder = ConvNeXt(in_chans=1, num_classes=latent_dims, dims=[8, 16, 32, 64])\n",
    "ar_model = ShiftedConv(in_channels=latent_dims, out_channels=latent_dims, kernel_size=n_time)\n",
    "query_weights = torch.nn.ModuleList()\n",
    "for _ in range(n_time - 1):\n",
    "    query_weights.append(torch.nn.Linear(latent_dims, latent_dims))"
   ]
  },
  {
   "cell_type": "code",
   "execution_count": null,
   "metadata": {},
   "outputs": [],
   "source": [
    "encoder.load_state_dict(\n",
    "    torch.load(os.path.join(checkpoint_dir, \"encoder.pt\"), weights_only=True)\n",
    ")\n",
    "ar_model.load_state_dict(\n",
    "    torch.load(\n",
    "        os.path.join(checkpoint_dir, \"ar_model.pt\"), weights_only=True\n",
    "    )\n",
    ")\n",
    "query_weights.load_state_dict(\n",
    "    torch.load(\n",
    "        os.path.join(checkpoint_dir, \"query_weights.pt\"), weights_only=True\n",
    "    )\n",
    ")"
   ]
  },
  {
   "cell_type": "code",
   "execution_count": null,
   "metadata": {},
   "outputs": [],
   "source": [
    "def test(test_loader,\n",
    "         encoder,\n",
    "         ar_model,\n",
    "         query_weights,\n",
    "):\n",
    "        encoder = encoder.to(device)\n",
    "        ar_model = ar_model.to(device)\n",
    "        query_weights = query_weights.to(device)\n",
    "        encoder.eval()\n",
    "        ar_model.eval()\n",
    "        query_weights.eval()\n",
    "        latents_list = []\n",
    "        context_list = []\n",
    "        with torch.no_grad():\n",
    "            for batch in tqdm(\n",
    "                test_loader,\n",
    "                bar_format=f\"Predicting {{l_bar}}{{bar}}{{r_bar}}\",\n",
    "            ):\n",
    "                batch_size = batch.shape[0]\n",
    "                batch = batch.to(device)\n",
    "                context, latents = cpc.forward(\n",
    "                    batch, batch_size=batch_size, encoder=encoder, ar_model=ar_model\n",
    "                )\n",
    "                latents_list.append(latents)\n",
    "                context_list.append(context)\n",
    "        return latents_list, context_list"
   ]
  },
  {
   "cell_type": "code",
   "execution_count": null,
   "metadata": {},
   "outputs": [],
   "source": [
    "embeddings = test(\n",
    "    test_loader=test_loader,\n",
    "    encoder=encoder,\n",
    "    ar_model=ar_model,\n",
    "    query_weights=query_weights,\n",
    ")\n",
    "latents, context = embeddings\n",
    "latents = torch.cat(latents, dim=0).cpu()\n",
    "context = torch.cat(context, dim=0).cpu()"
   ]
  },
  {
   "cell_type": "code",
   "execution_count": null,
   "metadata": {},
   "outputs": [],
   "source": [
    "fig, ax = plt.subplots(2, 5)\n",
    "for i in range(5):\n",
    "    ax[0, i].imshow(sorted_mnist[0, 0, i])\n",
    "    ax[0, i].axis(\"off\")\n",
    "for i in range(5):\n",
    "    ax[1, i].imshow(sorted_mnist[1, 0, i])\n",
    "    ax[1, i].axis(\"off\")"
   ]
  },
  {
   "cell_type": "code",
   "execution_count": null,
   "metadata": {},
   "outputs": [],
   "source": []
  }
 ],
 "metadata": {
  "kernelspec": {
   "display_name": "dnm",
   "language": "python",
   "name": "python3"
  },
  "language_info": {
   "codemirror_mode": {
    "name": "ipython",
    "version": 3
   },
   "file_extension": ".py",
   "mimetype": "text/x-python",
   "name": "python",
   "nbconvert_exporter": "python",
   "pygments_lexer": "ipython3",
   "version": "3.12.3"
  }
 },
 "nbformat": 4,
 "nbformat_minor": 2
}
