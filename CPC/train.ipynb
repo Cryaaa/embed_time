{
 "cells": [
  {
   "cell_type": "code",
   "execution_count": null,
   "metadata": {},
   "outputs": [],
   "source": [
    "import torch\n",
    "import torchvision\n",
    "\n",
    "from models.nn import ShiftedConv\n",
    "from models.convnext import ConvNeXt\n",
    "import train"
   ]
  },
  {
   "cell_type": "code",
   "execution_count": null,
   "metadata": {},
   "outputs": [],
   "source": [
    "GPU = 0\n",
    "max_epochs = 100\n",
    "patience = 10\n",
    "seed = 1\n",
    "crop_size = 280\n",
    "batch_size = 32\n",
    "checkpoint_dir = \"checkpoints/\"\n",
    "latent_dims = 2\n",
    "\n",
    "torch.manual_seed(seed)\n",
    "device = torch.device(f\"cuda:{str(GPU)}\")"
   ]
  },
  {
   "cell_type": "code",
   "execution_count": null,
   "metadata": {},
   "outputs": [],
   "source": [
    "class Dataset(torch.utils.data.Dataset):\n",
    "    def __init__(self, images, transform=None):\n",
    "        self.images = images\n",
    "        self.n_images = len(images)\n",
    "        self.transform = transform\n",
    "\n",
    "    def __len__(self):\n",
    "        return self.n_images\n",
    "\n",
    "    def __getitem__(self, idx):\n",
    "        image = self.images[idx]\n",
    "        if self.transform:\n",
    "            image = self.transform(image)\n",
    "        return image"
   ]
  },
  {
   "cell_type": "code",
   "execution_count": null,
   "metadata": {},
   "outputs": [],
   "source": [
    "mnist = torchvision.datasets.MNIST(\"./data\", download=True)"
   ]
  },
  {
   "cell_type": "code",
   "execution_count": null,
   "metadata": {},
   "outputs": [],
   "source": [
    "classes = []\n",
    "for i in range(10):\n",
    "    current_class = (mnist.targets == i).nonzero()\n",
    "    classes.append(current_class[:, 0])\n",
    "\n",
    "n_images = 1000\n",
    "\n",
    "sorted_mnist = []\n",
    "classes_ok = True\n",
    "while classes_ok and len(sorted_mnist) < n_images:\n",
    "    time_series = []\n",
    "    for i in range(10):\n",
    "        img = mnist[classes[i][-1].item()][0]\n",
    "        img = torchvision.transforms.functional.pil_to_tensor(img)[None]\n",
    "        img = torch.nn.functional.interpolate(img, scale_factor=10)\n",
    "        time_series.append(img)\n",
    "        classes[i] = classes[i][:-1]\n",
    "        if len(classes[i]) == 0:\n",
    "            classes_ok = False\n",
    "    time_series = torch.stack(time_series, dim=2)\n",
    "    sorted_mnist.append(time_series)\n",
    "sorted_mnist = torch.cat(sorted_mnist, dim=0).to(torch.float)\n",
    "\n",
    "sorted_mnist = sorted_mnist.unfold(2, 5, 5)\n",
    "sorted_mnist = sorted_mnist.movedim(2, 1)\n",
    "sorted_mnist = sorted_mnist.flatten(0, 1)\n",
    "sorted_mnist = sorted_mnist.movedim(4, 2)\n",
    "print(sorted_mnist.shape)\n",
    "\n",
    "sorted_mnist -= sorted_mnist.mean()\n",
    "sorted_mnist /= sorted_mnist.std()\n",
    "\n",
    "n_time = sorted_mnist.shape[2]"
   ]
  },
  {
   "cell_type": "code",
   "execution_count": null,
   "metadata": {},
   "outputs": [],
   "source": [
    "transform = torchvision.transforms.RandomCrop(crop_size)\n",
    "\n",
    "train_split = 0.9\n",
    "train_set = sorted_mnist[: int(len(sorted_mnist) * 0.9)]\n",
    "val_set = sorted_mnist[int(len(sorted_mnist) * 0.9) :]\n",
    "\n",
    "train_set = Dataset(train_set, transform=transform)\n",
    "val_set = Dataset(val_set, transform=transform)\n",
    "\n",
    "train_loader = torch.utils.data.DataLoader(\n",
    "    train_set,\n",
    "    batch_size=batch_size,\n",
    "    shuffle=True,\n",
    "    pin_memory=True,\n",
    "    drop_last=True,\n",
    ")\n",
    "val_loader = torch.utils.data.DataLoader(\n",
    "    val_set,\n",
    "    batch_size=batch_size,\n",
    "    shuffle=False,\n",
    "    pin_memory=True,\n",
    "    drop_last=True,\n",
    ")"
   ]
  },
  {
   "cell_type": "code",
   "execution_count": null,
   "metadata": {},
   "outputs": [],
   "source": [
    "encoder = ConvNeXt(in_chans=1, num_classes=latent_dims, dims=[8, 16, 32, 64])\n",
    "ar_model = ShiftedConv(in_channels=latent_dims, out_channels=latent_dims, kernel_size=n_time)\n",
    "query_weights = torch.nn.ModuleList()\n",
    "for _ in range(n_time - 1):\n",
    "    query_weights.append(torch.nn.Linear(latent_dims, latent_dims))"
   ]
  },
  {
   "cell_type": "code",
   "execution_count": null,
   "metadata": {},
   "outputs": [],
   "source": [
    "parameters = (\n",
    "    list(encoder.parameters())\n",
    "    + list(ar_model.parameters())\n",
    "    + list(query_weights.parameters())\n",
    ")\n",
    "optimiser = torch.optim.AdamW(parameters, lr=4e-3)"
   ]
  },
  {
   "cell_type": "code",
   "execution_count": null,
   "metadata": {},
   "outputs": [],
   "source": [
    "train.train(\n",
    "    train_loader,\n",
    "    val_loader,\n",
    "    encoder=encoder,\n",
    "    ar_model=ar_model,\n",
    "    query_weights=query_weights,\n",
    "    n_time=n_time,\n",
    "    optimiser=optimiser,\n",
    "    max_epochs=max_epochs,\n",
    "    device=device,\n",
    "    checkpoint_dir=checkpoint_dir,\n",
    "    patience=patience,\n",
    ")"
   ]
  },
  {
   "cell_type": "code",
   "execution_count": null,
   "metadata": {},
   "outputs": [],
   "source": []
  }
 ],
 "metadata": {
  "kernelspec": {
   "display_name": "dnm",
   "language": "python",
   "name": "python3"
  },
  "language_info": {
   "codemirror_mode": {
    "name": "ipython",
    "version": 3
   },
   "file_extension": ".py",
   "mimetype": "text/x-python",
   "name": "python",
   "nbconvert_exporter": "python",
   "pygments_lexer": "ipython3",
   "version": "3.12.3"
  }
 },
 "nbformat": 4,
 "nbformat_minor": 2
}
