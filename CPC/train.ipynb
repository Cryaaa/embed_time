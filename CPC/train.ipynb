{
 "cells": [
  {
   "cell_type": "code",
   "execution_count": 1,
   "metadata": {},
   "outputs": [
    {
     "name": "stderr",
     "output_type": "stream",
     "text": [
      "/home/S-rs/miniforge3/envs/embed_time/lib/python3.10/site-packages/tqdm/auto.py:21: TqdmWarning: IProgress not found. Please update jupyter and ipywidgets. See https://ipywidgets.readthedocs.io/en/stable/user_install.html\n",
      "  from .autonotebook import tqdm as notebook_tqdm\n"
     ]
    }
   ],
   "source": [
    "import torch\n",
    "import torchvision\n",
    "\n",
    "from models.nn import ShiftedConv\n",
    "from models.convnext import ConvNeXt\n",
    "import train"
   ]
  },
  {
   "cell_type": "code",
   "execution_count": 2,
   "metadata": {},
   "outputs": [],
   "source": [
    "GPU = 0\n",
    "patience = 10\n",
    "seed = 1\n",
    "crop_size = 280\n",
    "\n",
    "\n",
    "torch.manual_seed(seed)\n",
    "device = torch.device(f\"cuda:{str(GPU)}\")"
   ]
  },
  {
   "cell_type": "code",
   "execution_count": 3,
   "metadata": {},
   "outputs": [],
   "source": [
    "class Dataset(torch.utils.data.Dataset):\n",
    "    def __init__(self, images, transform=None):\n",
    "        self.images = images\n",
    "        self.n_images = len(images)\n",
    "        self.transform = transform\n",
    "\n",
    "    def __len__(self):\n",
    "        return self.n_images\n",
    "\n",
    "    def __getitem__(self, idx):\n",
    "        image = self.images[idx]\n",
    "        if self.transform:\n",
    "            image = self.transform(image)\n",
    "        return image"
   ]
  },
  {
   "cell_type": "code",
   "execution_count": 4,
   "metadata": {},
   "outputs": [],
   "source": [
    "mnist = torchvision.datasets.MNIST(\"./data\", download=True)"
   ]
  },
  {
   "cell_type": "code",
   "execution_count": 5,
   "metadata": {},
   "outputs": [
    {
     "name": "stdout",
     "output_type": "stream",
     "text": [
      "torch.Size([2000, 1, 5, 280, 280])\n"
     ]
    }
   ],
   "source": [
    "classes = []\n",
    "for i in range(10):\n",
    "    current_class = (mnist.targets == i).nonzero()\n",
    "    classes.append(current_class[:, 0])\n",
    "\n",
    "n_images = 1000\n",
    "\n",
    "sorted_mnist = []\n",
    "classes_ok = True\n",
    "while classes_ok and len(sorted_mnist) < n_images:\n",
    "    time_series = []\n",
    "    for i in range(10):\n",
    "        img = mnist[classes[i][-1].item()][0]\n",
    "        img = torchvision.transforms.functional.pil_to_tensor(img)[None]\n",
    "        img = torch.nn.functional.interpolate(img, scale_factor=10)\n",
    "        time_series.append(img)\n",
    "        classes[i] = classes[i][:-1]\n",
    "        if len(classes[i]) == 0:\n",
    "            classes_ok = False\n",
    "    time_series = torch.stack(time_series, dim=2)\n",
    "    sorted_mnist.append(time_series)\n",
    "sorted_mnist = torch.cat(sorted_mnist, dim=0).to(torch.float)\n",
    "\n",
    "sorted_mnist = sorted_mnist.unfold(2, 5, 5)\n",
    "sorted_mnist = sorted_mnist.movedim(2, 1)\n",
    "sorted_mnist = sorted_mnist.flatten(0, 1)\n",
    "sorted_mnist = sorted_mnist.movedim(4, 2)\n",
    "print(sorted_mnist.shape)\n",
    "\n",
    "sorted_mnist -= sorted_mnist.mean()\n",
    "sorted_mnist /= sorted_mnist.std()\n",
    "\n",
    "n_time = sorted_mnist.shape[2]"
   ]
  },
  {
   "cell_type": "code",
   "execution_count": 19,
   "metadata": {},
   "outputs": [],
   "source": [
    "transform = torchvision.transforms.RandomCrop(crop_size)\n",
    "batch_size = 4\n",
    "train_split = 0.9\n",
    "train_set = sorted_mnist[: int(len(sorted_mnist) * 0.9)]\n",
    "val_set = sorted_mnist[int(len(sorted_mnist) * 0.9) :]\n",
    "\n",
    "train_set = Dataset(train_set, transform=transform)\n",
    "val_set = Dataset(val_set, transform=transform)\n",
    "\n",
    "train_loader = torch.utils.data.DataLoader(\n",
    "    train_set,\n",
    "    batch_size=batch_size,\n",
    "    shuffle=True,\n",
    "    pin_memory=True,\n",
    "    drop_last=True,\n",
    ")\n",
    "val_loader = torch.utils.data.DataLoader(\n",
    "    val_set,\n",
    "    batch_size=batch_size,\n",
    "    shuffle=False,\n",
    "    pin_memory=True,\n",
    "    drop_last=True,\n",
    ")"
   ]
  },
  {
   "cell_type": "code",
   "execution_count": 20,
   "metadata": {},
   "outputs": [
    {
     "data": {
      "text/plain": [
       "torch.Size([4, 1, 5, 280, 280])"
      ]
     },
     "execution_count": 20,
     "metadata": {},
     "output_type": "execute_result"
    }
   ],
   "source": [
    "for i in val_loader:\n",
    "    example_batch = i\n",
    "example_batch.shape"
   ]
  },
  {
   "cell_type": "code",
   "execution_count": 21,
   "metadata": {},
   "outputs": [
    {
     "data": {
      "text/plain": [
       "torch.Size([1, 5, 280, 280])"
      ]
     },
     "execution_count": 21,
     "metadata": {},
     "output_type": "execute_result"
    }
   ],
   "source": [
    "for batch in train_loader:\n",
    "    example_mnist = batch\n",
    "example_mnist[0].shape"
   ]
  },
  {
   "cell_type": "code",
   "execution_count": 22,
   "metadata": {},
   "outputs": [
    {
     "data": {
      "text/plain": [
       "torch.Size([4, 1, 5, 280, 280])"
      ]
     },
     "execution_count": 22,
     "metadata": {},
     "output_type": "execute_result"
    }
   ],
   "source": [
    "for batch in val_loader:\n",
    "    example = batch\n",
    "    break\n",
    "example.shape"
   ]
  },
  {
   "cell_type": "code",
   "execution_count": 23,
   "metadata": {},
   "outputs": [
    {
     "data": {
      "text/plain": [
       "<matplotlib.image.AxesImage at 0x732ff7258820>"
      ]
     },
     "execution_count": 23,
     "metadata": {},
     "output_type": "execute_result"
    },
    {
     "data": {
      "image/png": "[encoded data removed]",
      "text/plain": [
       "<Figure size 640x480 with 2 Axes>"
      ]
     },
     "metadata": {},
     "output_type": "display_data"
    }
   ],
   "source": [
    "from skimage.io import imshow\n",
    "imshow(train_set[0][0][0].numpy())"
   ]
  },
  {
   "cell_type": "code",
   "execution_count": 24,
   "metadata": {},
   "outputs": [],
   "source": [
    "import torchvision.transforms as trans\n",
    "from torchvision.transforms import v2\n",
    "from embed_time.transforms import CustomToTensor, CropAndReshapeTL\n",
    "from embed_time.dataloader_rs import LiveTLSDatasetPairedOutput\n",
    "\n",
    "data_location = \"/mnt/efs/dlmbl/G-et/data/live-TLS\"\n",
    "\n",
    "folder_imgs = data_location +\"/\"+'Control_Dataset_4TP_Normalized'\n",
    "metadata = data_location + \"/\" +'Control_Dataset_4TP_Ground_Truth'\n",
    "\n",
    "loading_transforms = trans.Compose([\n",
    "    CropAndReshapeTL(1,0,598,0),\n",
    "    CustomToTensor(),\n",
    "    v2.Resize((576,576)),\n",
    "    v2.RandomAffine(\n",
    "        degrees=90,\n",
    "        translate=[0.1,0.1],\n",
    "    ),\n",
    "    v2.RandomHorizontalFlip(),\n",
    "    v2.RandomVerticalFlip(),\n",
    "    v2.GaussianNoise(0,0.05)\n",
    "])\n",
    "\n",
    "dataset_w_t = LiveTLSDatasetPairedOutput(\n",
    "    metadata,\n",
    "    folder_imgs,\n",
    "    indices=range(312),\n",
    "    transform = loading_transforms,\n",
    ")"
   ]
  },
  {
   "cell_type": "code",
   "execution_count": 25,
   "metadata": {},
   "outputs": [
    {
     "data": {
      "text/plain": [
       "torch.Size([2, 4, 576, 576])"
      ]
     },
     "execution_count": 25,
     "metadata": {},
     "output_type": "execute_result"
    }
   ],
   "source": [
    "dataset_w_t[0].shape"
   ]
  },
  {
   "cell_type": "code",
   "execution_count": 26,
   "metadata": {},
   "outputs": [
    {
     "data": {
      "text/plain": [
       "torch.Size([4, 576, 576])"
      ]
     },
     "execution_count": 26,
     "metadata": {},
     "output_type": "execute_result"
    }
   ],
   "source": [
    "dataset_w_t[0][1].shape"
   ]
  },
  {
   "cell_type": "code",
   "execution_count": 27,
   "metadata": {},
   "outputs": [],
   "source": [
    "from sklearn.model_selection import train_test_split\n",
    "\n",
    "dataset_length = 312  \n",
    "train_indices, test_indices = train_test_split(range(dataset_length), test_size=0.2, shuffle=True)"
   ]
  },
  {
   "cell_type": "code",
   "execution_count": 36,
   "metadata": {},
   "outputs": [],
   "source": [
    "batch_size = 4\n",
    "train_loader = torch.utils.data.DataLoader(\n",
    "    LiveTLSDatasetPairedOutput(\n",
    "        metadata,\n",
    "        folder_imgs,\n",
    "        indices=train_indices,\n",
    "        transform = loading_transforms,\n",
    "    ),\n",
    "    batch_size=batch_size,\n",
    "    shuffle=True,\n",
    "    pin_memory=True,\n",
    "    drop_last=True,\n",
    ")\n",
    "val_loader = torch.utils.data.DataLoader(\n",
    "        LiveTLSDatasetPairedOutput(\n",
    "        metadata,\n",
    "        folder_imgs,\n",
    "        indices=test_indices,\n",
    "        transform = loading_transforms,\n",
    "    ),\n",
    "    batch_size=batch_size,\n",
    "    shuffle=False,\n",
    "    pin_memory=True,\n",
    "    drop_last=True,\n",
    ")"
   ]
  },
  {
   "cell_type": "code",
   "execution_count": 37,
   "metadata": {},
   "outputs": [
    {
     "data": {
      "text/plain": [
       "torch.Size([4, 2, 4, 576, 576])"
      ]
     },
     "execution_count": 37,
     "metadata": {},
     "output_type": "execute_result"
    }
   ],
   "source": [
    "for batch in val_loader:\n",
    "    example_batch = batch\n",
    "    break\n",
    "\n",
    "example_batch.shape"
   ]
  },
  {
   "cell_type": "code",
   "execution_count": 38,
   "metadata": {},
   "outputs": [
    {
     "name": "stdout",
     "output_type": "stream",
     "text": [
      "/mnt/efs/dlmbl/G-et/checkpoints/time-series/2024-09-03_ben_model_01_checkpoints\n"
     ]
    }
   ],
   "source": [
    "from datetime import datetime\n",
    "from pathlib import Path\n",
    "max_epochs = 300\n",
    "n_time = 4\n",
    "model_name = \"ben_model_01\"\n",
    "base_dir = \"/mnt/efs/dlmbl/G-et/checkpoints/time-series\"\n",
    "checkpoint_dir = Path(base_dir) / f\"{datetime.today().strftime('%Y-%m-%d')}_{model_name}_checkpoints\"\n",
    "print(checkpoint_dir)\n",
    "\n",
    "checkpoint_dir.mkdir(exist_ok=True)\n",
    "latent_dims = 50\n",
    "\n",
    "encoder = ConvNeXt(in_chans=2, num_classes=latent_dims, dims=[8, 16, 32, 64])\n",
    "ar_model = ShiftedConv(in_channels=latent_dims, out_channels=latent_dims, kernel_size=n_time)\n",
    "query_weights = torch.nn.ModuleList()\n",
    "for _ in range(n_time - 1):\n",
    "    query_weights.append(torch.nn.Linear(latent_dims, latent_dims))"
   ]
  },
  {
   "cell_type": "code",
   "execution_count": 39,
   "metadata": {},
   "outputs": [],
   "source": [
    "parameters = (\n",
    "    list(encoder.parameters())\n",
    "    + list(ar_model.parameters())\n",
    "    + list(query_weights.parameters())\n",
    ")\n",
    "optimiser = torch.optim.AdamW(parameters, lr=4e-3)"
   ]
  },
  {
   "cell_type": "code",
   "execution_count": 40,
   "metadata": {},
   "outputs": [
    {
     "name": "stderr",
     "output_type": "stream",
     "text": [
      "Epoch 0   0%|          | 0/62 [00:00<?, ?it/s]"
     ]
    },
    {
     "name": "stderr",
     "output_type": "stream",
     "text": [
      "                                                          "
     ]
    },
    {
     "name": "stdout",
     "output_type": "stream",
     "text": [
      "Keyboard interrupt\n",
      "2 epochs. Version 3\n"
     ]
    },
    {
     "name": "stderr",
     "output_type": "stream",
     "text": [
      "\r"
     ]
    }
   ],
   "source": [
    "train.train(\n",
    "    train_loader,\n",
    "    val_loader,\n",
    "    encoder=encoder,\n",
    "    ar_model=ar_model,\n",
    "    query_weights=query_weights,\n",
    "    n_time=n_time,\n",
    "    optimiser=optimiser,\n",
    "    max_epochs=max_epochs,\n",
    "    device=device,\n",
    "    checkpoint_dir=checkpoint_dir,\n",
    "    patience=patience,\n",
    ")"
   ]
  },
  {
   "cell_type": "code",
   "execution_count": null,
   "metadata": {},
   "outputs": [],
   "source": []
  }
 ],
 "metadata": {
  "kernelspec": {
   "display_name": "dnm",
   "language": "python",
   "name": "python3"
  },
  "language_info": {
   "codemirror_mode": {
    "name": "ipython",
    "version": 3
   },
   "file_extension": ".py",
   "mimetype": "text/x-python",
   "name": "python",
   "nbconvert_exporter": "python",
   "pygments_lexer": "ipython3",
   "version": "3.10.14"
  }
 },
 "nbformat": 4,
 "nbformat_minor": 2
}
