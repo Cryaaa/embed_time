{
 "cells": [
  {
   "cell_type": "code",
   "execution_count": 6,
   "metadata": {},
   "outputs": [],
   "source": [
    "# Imports\n",
    "%reload_ext autoreload\n",
    "%autoreload 2 \n",
    "import os\n",
    "from embed_time.splitter_static import DatasetSplitter\n",
    "from embed_time.dataset_static import ZarrCellDataset\n",
    "from embed_time.dataloader_static import collate_wrapper\n",
    "from embed_time.model import Encoder, Decoder, VAE\n",
    "import torch\n",
    "from torch.utils.data import DataLoader\n",
    "import matplotlib.pyplot as plt"
   ]
  },
  {
   "cell_type": "markdown",
   "metadata": {},
   "source": [
    "### Split data"
   ]
  },
  {
   "cell_type": "code",
   "execution_count": 2,
   "metadata": {},
   "outputs": [
    {
     "name": "stdout",
     "output_type": "stream",
     "text": [
      "Processing 2 genes...\n"
     ]
    },
    {
     "name": "stderr",
     "output_type": "stream",
     "text": [
      "[Parallel(n_jobs=-1)]: Using backend LokyBackend with 8 concurrent workers.\n"
     ]
    },
    {
     "name": "stdout",
     "output_type": "stream",
     "text": [
      "Combining results...\n",
      "Creating DataFrame and saving CSV...\n",
      "Dataset split CSV saved to /home/S-md/embed_time/notebooks/splits/example_split.csv\n"
     ]
    },
    {
     "name": "stderr",
     "output_type": "stream",
     "text": [
      "[Parallel(n_jobs=-1)]: Done   2 out of   2 | elapsed:    2.2s finished\n"
     ]
    }
   ],
   "source": [
    "# Usage example:\n",
    "parent_dir = '/mnt/efs/dlmbl/S-md/'\n",
    "output_file = '/home/S-md/embed_time/notebooks/splits/example_split.csv'\n",
    "train_ratio = 0.7\n",
    "val_ratio = 0.15\n",
    "num_workers = -1\n",
    "\n",
    "# Create the dataset split CSV file\n",
    "DatasetSplitter(parent_dir, output_file, train_ratio, val_ratio, num_workers).generate_split()"
   ]
  },
  {
   "cell_type": "markdown",
   "metadata": {},
   "source": [
    "### Generate dataset"
   ]
  },
  {
   "cell_type": "code",
   "execution_count": 3,
   "metadata": {},
   "outputs": [
    {
     "name": "stdout",
     "output_type": "stream",
     "text": [
      "The dataset contains 13605 images.\n"
     ]
    }
   ],
   "source": [
    "# Usage example:\n",
    "parent_dir = '/mnt/efs/dlmbl/S-md/'\n",
    "csv_file = '/home/S-md/embed_time/notebooks/splits/example_split.csv'\n",
    "split = 'train'\n",
    "channels = [0, 1, 2, 3]\n",
    "cell_cycle_stages = 'interphase'\n",
    "transform = \"masks\"\n",
    "crop_size = 150\n",
    "\n",
    "# Create the dataset\n",
    "dataset = ZarrCellDataset(parent_dir, csv_file, split, channels, transform, crop_size)\n",
    "\n",
    "# Print the number of images and shapes of the data\n",
    "print(f\"The dataset contains {len(dataset)} images.\")"
   ]
  },
  {
   "cell_type": "markdown",
   "metadata": {},
   "source": [
    "### Generate dataloader"
   ]
  },
  {
   "cell_type": "code",
   "execution_count": 7,
   "metadata": {},
   "outputs": [],
   "source": [
    "# Define the metadata keys\n",
    "metadata_keys = ['gene', 'barcode', 'stage']\n",
    "images_keys = ['original_image', 'cell_image']\n",
    "\n",
    "# Create a DataLoader for the dataset\n",
    "dataloader = DataLoader(\n",
    "    dataset, \n",
    "    batch_size=16, \n",
    "    shuffle=True, \n",
    "    collate_fn=collate_wrapper(metadata_keys, images_keys)\n",
    ")\n",
    "\n",
    "# Get a batch of data\n",
    "for i, batch in enumerate(dataloader):\n",
    "    if i == 0:\n",
    "        break"
   ]
  },
  {
   "cell_type": "code",
   "execution_count": 9,
   "metadata": {},
   "outputs": [
    {
     "data": {
      "text/plain": [
       "<torch.utils.data.dataloader.DataLoader at 0x7158b832a6e0>"
      ]
     },
     "execution_count": 9,
     "metadata": {},
     "output_type": "execute_result"
    }
   ],
   "source": [
    "dataloader"
   ]
  },
  {
   "cell_type": "markdown",
   "metadata": {},
   "source": [
    "### Read in model"
   ]
  },
  {
   "cell_type": "code",
   "execution_count": 10,
   "metadata": {},
   "outputs": [
    {
     "ename": "NameError",
     "evalue": "name 'torchview' is not defined",
     "output_type": "error",
     "traceback": [
      "\u001b[0;31m---------------------------------------------------------------------------\u001b[0m",
      "\u001b[0;31mNameError\u001b[0m                                 Traceback (most recent call last)",
      "Cell \u001b[0;32mIn[10], line 16\u001b[0m\n\u001b[1;32m     13\u001b[0m \u001b[38;5;66;03m# Initiate VAE\u001b[39;00m\n\u001b[1;32m     14\u001b[0m vae \u001b[38;5;241m=\u001b[39m VAE(encoder, decoder)\n\u001b[0;32m---> 16\u001b[0m model_graph \u001b[38;5;241m=\u001b[39m \u001b[43mtorchview\u001b[49m\u001b[38;5;241m.\u001b[39mdraw_graph(vae,  \n\u001b[1;32m     17\u001b[0m                                    dataloader,\n\u001b[1;32m     18\u001b[0m                                    roll \u001b[38;5;241m=\u001b[39m \u001b[38;5;28;01mTrue\u001b[39;00m,\n\u001b[1;32m     19\u001b[0m                                    depth \u001b[38;5;241m=\u001b[39m \u001b[38;5;241m3\u001b[39m,\n\u001b[1;32m     20\u001b[0m                                    device \u001b[38;5;241m=\u001b[39m \u001b[38;5;124m'\u001b[39m\u001b[38;5;124mcpu\u001b[39m\u001b[38;5;124m'\u001b[39m)\n\u001b[1;32m     22\u001b[0m \u001b[38;5;66;03m# # Train the VAE\u001b[39;00m\n\u001b[1;32m     23\u001b[0m \u001b[38;5;66;03m# vae.train(dataloader, epochs=10)\u001b[39;00m\n",
      "\u001b[0;31mNameError\u001b[0m: name 'torchview' is not defined"
     ]
    }
   ],
   "source": [
    "# Initiate Encoder and Decoder\n",
    "encoder = Encoder(input_shape=(150, 150, 4),\n",
    "                  x_dim=4,\n",
    "                  h_dim1=512,\n",
    "                  h_dim2=256,\n",
    "                  z_dim=32)\n",
    "decoder = Decoder(z_dim=32,\n",
    "                  h_dim1=256,\n",
    "                  h_dim2=512,\n",
    "                  x_dim=4,\n",
    "                  output_shape=(150, 150))\n",
    "\n",
    "# Initiate VAE\n",
    "vae = VAE(encoder, decoder)\n",
    "\n",
    "model_graph = torchview.draw_graph(vae,  \n",
    "                                   dataloader,\n",
    "                                   roll = True,\n",
    "                                   depth = 3,\n",
    "                                   device = 'cpu')\n",
    "\n",
    "# # Train the VAE\n",
    "# vae.train(dataloader, epochs=10)"
   ]
  },
  {
   "cell_type": "code",
   "execution_count": null,
   "metadata": {},
   "outputs": [],
   "source": [
    "# "
   ]
  }
 ],
 "metadata": {
  "kernelspec": {
   "display_name": "embed_time",
   "language": "python",
   "name": "python3"
  },
  "language_info": {
   "codemirror_mode": {
    "name": "ipython",
    "version": 3
   },
   "file_extension": ".py",
   "mimetype": "text/x-python",
   "name": "python",
   "nbconvert_exporter": "python",
   "pygments_lexer": "ipython3",
   "version": "3.10.14"
  }
 },
 "nbformat": 4,
 "nbformat_minor": 2
}
