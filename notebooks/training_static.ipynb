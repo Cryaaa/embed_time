{
 "cells": [
  {
   "cell_type": "code",
   "execution_count": 1,
   "metadata": {},
   "outputs": [],
   "source": [
    "# Imports\n",
    "%reload_ext autoreload\n",
    "%autoreload 2 \n",
    "import os\n",
    "from embed_time.splitter_static import DatasetSplitter\n",
    "from embed_time.dataset_static import ZarrCellDataset\n",
    "from embed_time.dataloader_static import collate_wrapper\n",
    "from embed_time.model import Encoder, Decoder, VAE\n",
    "import torch\n",
    "from torch.utils.data import DataLoader\n",
    "from torch.nn import functional as F\n",
    "from torch import optim\n",
    "import matplotlib.pyplot as plt\n",
    "import torchview"
   ]
  },
  {
   "cell_type": "markdown",
   "metadata": {},
   "source": [
    "### Split data"
   ]
  },
  {
   "cell_type": "code",
   "execution_count": 2,
   "metadata": {},
   "outputs": [
    {
     "name": "stdout",
     "output_type": "stream",
     "text": [
      "Processing 2 genes...\n"
     ]
    },
    {
     "name": "stderr",
     "output_type": "stream",
     "text": [
      "[Parallel(n_jobs=-1)]: Using backend LokyBackend with 8 concurrent workers.\n"
     ]
    },
    {
     "name": "stdout",
     "output_type": "stream",
     "text": [
      "Combining results...\n",
      "Creating DataFrame and saving CSV...\n",
      "Dataset split CSV saved to /home/S-md/embed_time/notebooks/splits/example_split.csv\n"
     ]
    },
    {
     "name": "stderr",
     "output_type": "stream",
     "text": [
      "[Parallel(n_jobs=-1)]: Done   2 out of   2 | elapsed:    2.2s finished\n"
     ]
    }
   ],
   "source": [
    "# Usage example:\n",
    "parent_dir = '/mnt/efs/dlmbl/S-md/'\n",
    "output_file = '/home/S-md/embed_time/notebooks/splits/example_split.csv'\n",
    "train_ratio = 0.7\n",
    "val_ratio = 0.15\n",
    "num_workers = -1\n",
    "\n",
    "# Create the dataset split CSV file\n",
    "DatasetSplitter(parent_dir, output_file, train_ratio, val_ratio, num_workers).generate_split()"
   ]
  },
  {
   "cell_type": "markdown",
   "metadata": {},
   "source": [
    "### Generate dataset"
   ]
  },
  {
   "cell_type": "code",
   "execution_count": 3,
   "metadata": {},
   "outputs": [
    {
     "name": "stdout",
     "output_type": "stream",
     "text": [
      "The dataset contains 13605 images.\n"
     ]
    }
   ],
   "source": [
    "# Usage example:\n",
    "parent_dir = '/mnt/efs/dlmbl/S-md/'\n",
    "csv_file = '/home/S-md/embed_time/notebooks/splits/example_split.csv'\n",
    "split = 'train'\n",
    "channels = [0, 1, 2, 3]\n",
    "cell_cycle_stages = 'interphase'\n",
    "transform = \"masks\"\n",
    "crop_size = 150\n",
    "\n",
    "# Create the dataset\n",
    "dataset = ZarrCellDataset(parent_dir, csv_file, split, channels, transform, crop_size)\n",
    "\n",
    "# Print the number of images and shapes of the data\n",
    "print(f\"The dataset contains {len(dataset)} images.\")"
   ]
  },
  {
   "cell_type": "markdown",
   "metadata": {},
   "source": [
    "### Generate dataloader"
   ]
  },
  {
   "cell_type": "code",
   "execution_count": 4,
   "metadata": {},
   "outputs": [],
   "source": [
    "# Define the metadata keys\n",
    "metadata_keys = ['gene', 'barcode', 'stage']\n",
    "images_keys = ['cell_image']\n",
    "\n",
    "# Create a DataLoader for the dataset\n",
    "dataloader = DataLoader(\n",
    "    dataset, \n",
    "    batch_size=16, \n",
    "    shuffle=True, \n",
    "    collate_fn=collate_wrapper(metadata_keys, images_keys)\n",
    ")\n",
    "\n",
    "# Get a batch of data\n",
    "for i, batch in enumerate(dataloader):\n",
    "    if i == 0:\n",
    "        break"
   ]
  },
  {
   "cell_type": "markdown",
   "metadata": {},
   "source": [
    "### Read in model"
   ]
  },
  {
   "cell_type": "code",
   "execution_count": 5,
   "metadata": {},
   "outputs": [],
   "source": [
    "# Initiate Encoder and Decoder\n",
    "encoder = Encoder(input_shape=(150, 150),\n",
    "                  x_dim=4,\n",
    "                  h_dim1=512,\n",
    "                  h_dim2=256,\n",
    "                  z_dim=32)\n",
    "decoder = Decoder(z_dim=32,\n",
    "                  h_dim1=256,\n",
    "                  h_dim2=512,\n",
    "                  x_dim=4,\n",
    "                  output_shape=(150, 150))\n",
    "\n",
    "# Initiate VAE\n",
    "vae = VAE(encoder, decoder)\n",
    "\n",
    "model_graph = torchview.draw_graph(vae,  \n",
    "                                   batch['cell_image'],\n",
    "                                   roll = True,\n",
    "                                   depth = 3,\n",
    "                                   device = 'cpu',\n",
    "                                   save_graph = True,\n",
    "                                   filename = 'basic_vae_model_graph')\n",
    "\n",
    "# model_graph.visual_graph"
   ]
  },
  {
   "cell_type": "code",
   "execution_count": 6,
   "metadata": {},
   "outputs": [],
   "source": [
    "assert torch.cuda.is_available()"
   ]
  },
  {
   "cell_type": "code",
   "execution_count": 11,
   "metadata": {},
   "outputs": [],
   "source": [
    "if torch.cuda.is_available():\n",
    "    device = torch.device(\"cuda\")\n",
    "else:\n",
    "    device = torch.device(\"cpu\")\n",
    "vae = vae.to(device)"
   ]
  },
  {
   "cell_type": "code",
   "execution_count": 12,
   "metadata": {},
   "outputs": [],
   "source": [
    "optimizer = torch.optim.Adam(vae.parameters(), lr=1e-4)\n",
    "\n",
    "def loss_function(recon_x, x, mu, logvar):\n",
    "    BCE = F.mse_loss(recon_x, x, reduction='mean')\n",
    "    KLD = -0.5 * torch.sum(1 + logvar - mu.pow(2) - logvar.exp())\n",
    "    return BCE + KLD"
   ]
  },
  {
   "cell_type": "code",
   "execution_count": 13,
   "metadata": {},
   "outputs": [],
   "source": [
    "def train(epoch):\n",
    "    vae.train()\n",
    "    train_loss = 0\n",
    "    for batch_idx, batch in enumerate(dataloader):\n",
    "        data = batch['cell_image'].to(device)\n",
    "        optimizer.zero_grad()\n",
    "        \n",
    "        recon_batch, mu, logvar = vae(data)\n",
    "        loss = loss_function(recon_batch, data, mu, logvar)\n",
    "        \n",
    "        loss.backward()\n",
    "        train_loss += loss.item()\n",
    "        optimizer.step()\n",
    "        \n",
    "        if batch_idx % 100 == 0:\n",
    "            print('Train Epoch: {} [{}/{} ({:.0f}%)]\\tLoss: {:.6f}'.format(\n",
    "                epoch, batch_idx * len(data), len(dataloader.dataset),\n",
    "                100. * batch_idx / len(dataloader),\n",
    "                loss.item() / len(data)))\n",
    "\n",
    "    print('====> Epoch: {} Average loss: {:.4f}'.format(\n",
    "          epoch, train_loss / len(dataloader.dataset)))\n"
   ]
  },
  {
   "cell_type": "code",
   "execution_count": 14,
   "metadata": {},
   "outputs": [
    {
     "name": "stdout",
     "output_type": "stream",
     "text": [
      "Train Epoch: 1 [0/13605 (0%)]\tLoss: nan\n"
     ]
    },
    {
     "ename": "KeyboardInterrupt",
     "evalue": "",
     "output_type": "error",
     "traceback": [
      "\u001b[0;31m---------------------------------------------------------------------------\u001b[0m",
      "\u001b[0;31mKeyboardInterrupt\u001b[0m                         Traceback (most recent call last)",
      "Cell \u001b[0;32mIn[14], line 2\u001b[0m\n\u001b[1;32m      1\u001b[0m \u001b[38;5;28;01mfor\u001b[39;00m epoch \u001b[38;5;129;01min\u001b[39;00m \u001b[38;5;28mrange\u001b[39m(\u001b[38;5;241m1\u001b[39m, \u001b[38;5;241m10\u001b[39m):\n\u001b[0;32m----> 2\u001b[0m     \u001b[43mtrain\u001b[49m\u001b[43m(\u001b[49m\u001b[43mepoch\u001b[49m\u001b[43m)\u001b[49m\n",
      "Cell \u001b[0;32mIn[13], line 12\u001b[0m, in \u001b[0;36mtrain\u001b[0;34m(epoch)\u001b[0m\n\u001b[1;32m      9\u001b[0m loss \u001b[38;5;241m=\u001b[39m loss_function(recon_batch, data, mu, logvar)\n\u001b[1;32m     11\u001b[0m loss\u001b[38;5;241m.\u001b[39mbackward()\n\u001b[0;32m---> 12\u001b[0m train_loss \u001b[38;5;241m+\u001b[39m\u001b[38;5;241m=\u001b[39m \u001b[43mloss\u001b[49m\u001b[38;5;241;43m.\u001b[39;49m\u001b[43mitem\u001b[49m\u001b[43m(\u001b[49m\u001b[43m)\u001b[49m\n\u001b[1;32m     13\u001b[0m optimizer\u001b[38;5;241m.\u001b[39mstep()\n\u001b[1;32m     15\u001b[0m \u001b[38;5;28;01mif\u001b[39;00m batch_idx \u001b[38;5;241m%\u001b[39m \u001b[38;5;241m100\u001b[39m \u001b[38;5;241m==\u001b[39m \u001b[38;5;241m0\u001b[39m:\n",
      "\u001b[0;31mKeyboardInterrupt\u001b[0m: "
     ]
    }
   ],
   "source": [
    "for epoch in range(1, 10):\n",
    "    train(epoch)"
   ]
  }
 ],
 "metadata": {
  "kernelspec": {
   "display_name": "embed_time",
   "language": "python",
   "name": "python3"
  },
  "language_info": {
   "codemirror_mode": {
    "name": "ipython",
    "version": 3
   },
   "file_extension": ".py",
   "mimetype": "text/x-python",
   "name": "python",
   "nbconvert_exporter": "python",
   "pygments_lexer": "ipython3",
   "version": "3.10.14"
  }
 },
 "nbformat": 4,
 "nbformat_minor": 2
}
