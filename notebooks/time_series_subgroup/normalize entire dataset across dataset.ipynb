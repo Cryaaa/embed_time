{
 "cells": [
  {
   "cell_type": "markdown",
   "metadata": {},
   "source": [
    "# Normalization Notebook\n",
    "In this notebook I normalize the whole dataset so that we do not need to do it on the fly when training the model\n",
    "Below I also test some of the transforms that were generated"
   ]
  },
  {
   "cell_type": "code",
   "execution_count": 2,
   "metadata": {},
   "outputs": [
    {
     "data": {
      "text/plain": [
       "['CTRLD_TR_PLATE_2_ID_G9.tif',\n",
       " 'CTRLD_RR_PLATE_6_ID_E9.tif',\n",
       " 'CTRLD_RR_PLATE_1_ID_B10.tif',\n",
       " 'CTRLD_RR_PLATE_4_ID_G9.tif',\n",
       " 'CTRLD_RR_PLATE_1_ID_B1.tif',\n",
       " 'CTRLD_RR_PLATE_1_ID_A2.tif',\n",
       " 'CTRLD_RR_PLATE_4_ID_H8.tif',\n",
       " 'CTRLD_RR_PLATE_6_ID_H6.tif',\n",
       " 'CTRLD_TR_PLATE_1_ID_H9.tif',\n",
       " 'CTRLD_RR_PLATE_1_ID_H3.tif',\n",
       " 'CTRLD_RR_PLATE_4_ID_F2.tif',\n",
       " 'CTRLD_TR_PLATE_2_ID_D4.tif',\n",
       " 'CTRLD_TR_PLATE_1_ID_H10.tif',\n",
       " 'CTRLD_TR_PLATE_1_ID_B7.tif',\n",
       " 'CTRLD_TR_PLATE_1_ID_F12.tif',\n",
       " 'CTRLD_RR_PLATE_4_ID_B6.tif',\n",
       " 'CTRLD_RR_PLATE_1_ID_D7.tif',\n",
       " 'CTRLD_TR_PLATE_1_ID_F3.tif',\n",
       " 'CTRLD_RR_PLATE_1_ID_B9.tif',\n",
       " 'CTRLD_TR_PLATE_1_ID_D5.tif',\n",
       " 'CTRLD_TR_PLATE_1_ID_G11.tif',\n",
       " 'CTRLD_TR_PLATE_2_ID_B6.tif',\n",
       " 'CTRLD_RR_PLATE_1_ID_F5.tif',\n",
       " 'CTRLD_RR_PLATE_6_ID_C12.tif',\n",
       " 'CTRLD_RR_PLATE_4_ID_G1.tif',\n",
       " 'CTRLD_TR_PLATE_2_ID_E3.tif',\n",
       " 'CTRLD_RR_PLATE_6_ID_C3.tif',\n",
       " 'CTRLD_TR_PLATE_2_ID_E12.tif',\n",
       " 'CTRLD_TR_PLATE_1_ID_C6.tif',\n",
       " 'CTRLD_RR_PLATE_6_ID_E10.tif',\n",
       " 'CTRLD_RR_PLATE_4_ID_C5.tif',\n",
       " 'CTRLD_RR_PLATE_1_ID_E6.tif',\n",
       " 'CTRLD_RR_PLATE_6_ID_D11.tif',\n",
       " 'CTRLD_RR_PLATE_6_ID_E1.tif',\n",
       " 'CTRLD_RR_PLATE_4_ID_G10.tif',\n",
       " 'CTRLD_RR_PLATE_4_ID_A7.tif',\n",
       " 'CTRLD_TR_PLATE_1_ID_E4.tif',\n",
       " 'CTRLD_RR_PLATE_1_ID_C8.tif',\n",
       " 'CTRLD_TR_PLATE_2_ID_F11.tif',\n",
       " 'CTRLD_RR_PLATE_6_ID_A5.tif',\n",
       " 'CTRLD_TR_PLATE_1_ID_A8.tif',\n",
       " 'CTRLD_RR_PLATE_4_ID_E12.tif',\n",
       " 'CTRLD_RR_PLATE_4_ID_E3.tif',\n",
       " 'CTRLD_RR_PLATE_1_ID_G4.tif',\n",
       " 'CTRLD_RR_PLATE_1_ID_D12.tif',\n",
       " 'CTRLD_TR_PLATE_1_ID_D10.tif',\n",
       " 'CTRLD_TR_PLATE_1_ID_B3.tif',\n",
       " 'CTRLD_RR_PLATE_1_ID_F10.tif',\n",
       " 'CTRLD_RR_PLATE_4_ID_B2.tif',\n",
       " 'CTRLD_RR_PLATE_1_ID_D3.tif',\n",
       " 'CTRLD_RR_PLATE_1_ID_B5.tif',\n",
       " 'CTRLD_RR_PLATE_1_ID_F1.tif',\n",
       " 'CTRLD_TR_PLATE_2_ID_A12.tif',\n",
       " 'CTRLD_RR_PLATE_4_ID_B11.tif',\n",
       " 'CTRLD_TR_PLATE_2_ID_C10.tif',\n",
       " 'CTRLD_RR_PLATE_4_ID_C1.tif',\n",
       " 'CTRLD_RR_PLATE_6_ID_A10.tif',\n",
       " 'CTRLD_RR_PLATE_4_ID_C10.tif',\n",
       " 'CTRLD_RR_PLATE_4_ID_A3.tif',\n",
       " 'CTRLD_RR_PLATE_1_ID_C4.tif',\n",
       " 'CTRLD_RR_PLATE_4_ID_A12.tif',\n",
       " 'CTRLD_TR_PLATE_2_ID_H4.tif',\n",
       " 'CTRLD_RR_PLATE_6_ID_F4.tif',\n",
       " 'CTRLD_TR_PLATE_2_ID_F6.tif',\n",
       " 'CTRLD_RR_PLATE_4_ID_H4.tif',\n",
       " 'CTRLD_TR_PLATE_1_ID_D9.tif',\n",
       " 'CTRLD_TR_PLATE_1_ID_H5.tif',\n",
       " 'CTRLD_RR_PLATE_4_ID_D8.tif',\n",
       " 'CTRLD_RR_PLATE_6_ID_H2.tif',\n",
       " 'CTRLD_TR_PLATE_2_ID_E7.tif',\n",
       " 'CTRLD_RR_PLATE_4_ID_G5.tif',\n",
       " 'CTRLD_RR_PLATE_6_ID_G12.tif',\n",
       " 'CTRLD_TR_PLATE_2_ID_G5.tif',\n",
       " 'CTRLD_TR_PLATE_1_ID_E8.tif',\n",
       " 'CTRLD_RR_PLATE_6_ID_A9.tif',\n",
       " 'CTRLD_RR_PLATE_1_ID_G8.tif',\n",
       " 'CTRLD_TR_PLATE_2_ID_C9.tif',\n",
       " 'CTRLD_RR_PLATE_1_ID_D10.tif',\n",
       " 'CTRLD_RR_PLATE_1_ID_B12.tif',\n",
       " 'CTRLD_RR_PLATE_1_ID_D1.tif',\n",
       " 'CTRLD_RR_PLATE_1_ID_B3.tif',\n",
       " 'CTRLD_TR_PLATE_1_ID_A11.tif',\n",
       " 'CTRLD_RR_PLATE_1_ID_C11.tif',\n",
       " 'CTRLD_RR_PLATE_1_ID_A4.tif',\n",
       " 'CTRLD_TR_PLATE_2_ID_A10.tif',\n",
       " 'CTRLD_RR_PLATE_4_ID_A1.tif',\n",
       " 'CTRLD_RR_PLATE_1_ID_C2.tif',\n",
       " 'CTRLD_RR_PLATE_6_ID_H8.tif',\n",
       " 'CTRLD_RR_PLATE_6_ID_B6.tif',\n",
       " 'CTRLD_TR_PLATE_1_ID_H12.tif',\n",
       " 'CTRLD_RR_PLATE_1_ID_H5.tif',\n",
       " 'CTRLD_TR_PLATE_2_ID_D6.tif',\n",
       " 'CTRLD_RR_PLATE_1_ID_D9.tif',\n",
       " 'CTRLD_RR_PLATE_6_ID_F2.tif',\n",
       " 'CTRLD_RR_PLATE_4_ID_H2.tif',\n",
       " 'CTRLD_TR_PLATE_2_ID_F4.tif',\n",
       " 'CTRLD_RR_PLATE_1_ID_F7.tif',\n",
       " 'CTRLD_TR_PLATE_1_ID_H3.tif',\n",
       " 'CTRLD_RR_PLATE_4_ID_D6.tif',\n",
       " 'CTRLD_TR_PLATE_2_ID_B8.tif',\n",
       " 'CTRLD_TR_PLATE_1_ID_C8.tif',\n",
       " 'CTRLD_RR_PLATE_6_ID_C5.tif',\n",
       " 'CTRLD_RR_PLATE_1_ID_E8.tif',\n",
       " 'CTRLD_RR_PLATE_4_ID_H11.tif',\n",
       " 'CTRLD_TR_PLATE_2_ID_A9.tif',\n",
       " 'CTRLD_RR_PLATE_6_ID_E12.tif',\n",
       " 'CTRLD_TR_PLATE_1_ID_E6.tif',\n",
       " 'CTRLD_RR_PLATE_4_ID_A9.tif',\n",
       " 'CTRLD_RR_PLATE_4_ID_G12.tif',\n",
       " 'CTRLD_RR_PLATE_6_ID_E3.tif',\n",
       " 'CTRLD_RR_PLATE_1_ID_G6.tif',\n",
       " 'CTRLD_TR_PLATE_2_ID_H11.tif',\n",
       " 'CTRLD_RR_PLATE_6_ID_A7.tif',\n",
       " 'CTRLD_RR_PLATE_6_ID_B2.tif',\n",
       " 'CTRLD_RR_PLATE_1_ID_H10.tif',\n",
       " 'CTRLD_TR_PLATE_1_ID_B5.tif',\n",
       " 'CTRLD_RR_PLATE_4_ID_B4.tif',\n",
       " 'CTRLD_RR_PLATE_1_ID_D5.tif',\n",
       " 'CTRLD_TR_PLATE_1_ID_F10.tif',\n",
       " 'CTRLD_RR_PLATE_1_ID_F12.tif',\n",
       " 'CTRLD_TR_PLATE_1_ID_D3.tif',\n",
       " 'CTRLD_RR_PLATE_1_ID_B7.tif',\n",
       " 'CTRLD_TR_PLATE_1_ID_E11.tif',\n",
       " 'CTRLD_TR_PLATE_2_ID_B4.tif',\n",
       " 'CTRLD_RR_PLATE_4_ID_D2.tif',\n",
       " 'CTRLD_RR_PLATE_1_ID_F3.tif',\n",
       " 'CTRLD_RR_PLATE_1_ID_G11.tif',\n",
       " 'CTRLD_RR_PLATE_6_ID_C1.tif',\n",
       " 'CTRLD_TR_PLATE_2_ID_E10.tif',\n",
       " 'CTRLD_RR_PLATE_1_ID_A8.tif',\n",
       " 'CTRLD_TR_PLATE_1_ID_C4.tif',\n",
       " 'CTRLD_RR_PLATE_6_ID_C10.tif',\n",
       " 'CTRLD_TR_PLATE_2_ID_A5.tif',\n",
       " 'CTRLD_RR_PLATE_6_ID_A12.tif',\n",
       " 'CTRLD_RR_PLATE_1_ID_E4.tif',\n",
       " 'CTRLD_RR_PLATE_4_ID_D11.tif',\n",
       " 'CTRLD_TR_PLATE_2_ID_C12.tif',\n",
       " 'CTRLD_RR_PLATE_4_ID_A5.tif',\n",
       " 'CTRLD_RR_PLATE_1_ID_C6.tif',\n",
       " 'CTRLD_TR_PLATE_1_ID_E2.tif',\n",
       " 'CTRLD_RR_PLATE_4_ID_C12.tif',\n",
       " 'CTRLD_RR_PLATE_6_ID_B11.tif',\n",
       " 'CTRLD_RR_PLATE_4_ID_E1.tif',\n",
       " 'CTRLD_TR_PLATE_2_ID_D11.tif',\n",
       " 'CTRLD_TR_PLATE_1_ID_A6.tif',\n",
       " 'CTRLD_RR_PLATE_6_ID_A3.tif',\n",
       " 'CTRLD_RR_PLATE_1_ID_H9.tif',\n",
       " 'CTRLD_RR_PLATE_4_ID_F8.tif',\n",
       " 'CTRLD_TR_PLATE_1_ID_F9.tif',\n",
       " 'CTRLD_RR_PLATE_6_ID_D8.tif',\n",
       " 'CTRLD_TR_PLATE_2_ID_F8.tif',\n",
       " 'CTRLD_RR_PLATE_4_ID_H6.tif',\n",
       " 'CTRLD_TR_PLATE_1_ID_H7.tif',\n",
       " 'CTRLD_RR_PLATE_6_ID_C9.tif',\n",
       " 'CTRLD_TR_PLATE_2_ID_E9.tif',\n",
       " 'CTRLD_RR_PLATE_4_ID_G7.tif',\n",
       " 'CTRLD_TR_PLATE_2_ID_G7.tif',\n",
       " 'CTRLD_RR_PLATE_4_ID_E9.tif',\n",
       " 'CTRLD_RR_PLATE_1_ID_B11.tif',\n",
       " 'CTRLD_RR_PLATE_1_ID_C10.tif',\n",
       " 'CTRLD_RR_PLATE_1_ID_A12.tif',\n",
       " 'CTRLD_RR_PLATE_1_ID_B2.tif',\n",
       " 'CTRLD_RR_PLATE_6_ID_F9.tif',\n",
       " 'CTRLD_TR_PLATE_2_ID_H9.tif',\n",
       " 'CTRLD_RR_PLATE_1_ID_A3.tif',\n",
       " 'CTRLD_RR_PLATE_6_ID_H7.tif',\n",
       " 'CTRLD_RR_PLATE_4_ID_H9.tif',\n",
       " 'CTRLD_RR_PLATE_1_ID_C1.tif',\n",
       " 'CTRLD_RR_PLATE_1_ID_D8.tif',\n",
       " 'CTRLD_RR_PLATE_6_ID_F1.tif',\n",
       " 'CTRLD_RR_PLATE_1_ID_H4.tif',\n",
       " 'CTRLD_TR_PLATE_2_ID_D5.tif',\n",
       " 'CTRLD_TR_PLATE_1_ID_H11.tif',\n",
       " 'CTRLD_TR_PLATE_1_ID_B8.tif',\n",
       " 'CTRLD_RR_PLATE_1_ID_F6.tif',\n",
       " 'CTRLD_TR_PLATE_1_ID_H2.tif',\n",
       " 'CTRLD_TR_PLATE_2_ID_B7.tif',\n",
       " 'CTRLD_TR_PLATE_1_ID_G12.tif',\n",
       " 'CTRLD_TR_PLATE_2_ID_F3.tif',\n",
       " 'CTRLD_RR_PLATE_6_ID_D3.tif',\n",
       " 'CTRLD_RR_PLATE_4_ID_C6.tif',\n",
       " 'CTRLD_TR_PLATE_1_ID_G3.tif',\n",
       " 'CTRLD_RR_PLATE_1_ID_E7.tif',\n",
       " 'CTRLD_RR_PLATE_4_ID_H10.tif',\n",
       " 'CTRLD_RR_PLATE_6_ID_E11.tif',\n",
       " 'CTRLD_RR_PLATE_4_ID_G2.tif',\n",
       " 'CTRLD_TR_PLATE_2_ID_E4.tif',\n",
       " 'CTRLD_TR_PLATE_1_ID_C7.tif',\n",
       " 'CTRLD_RR_PLATE_1_ID_G5.tif',\n",
       " 'CTRLD_RR_PLATE_6_ID_A6.tif',\n",
       " 'CTRLD_RR_PLATE_6_ID_D12.tif',\n",
       " 'CTRLD_RR_PLATE_6_ID_E2.tif',\n",
       " 'CTRLD_TR_PLATE_1_ID_E5.tif',\n",
       " 'CTRLD_TR_PLATE_2_ID_F12.tif',\n",
       " 'CTRLD_RR_PLATE_1_ID_C9.tif',\n",
       " 'CTRLD_RR_PLATE_4_ID_G11.tif',\n",
       " 'CTRLD_RR_PLATE_1_ID_D4.tif',\n",
       " 'CTRLD_RR_PLATE_4_ID_B3.tif',\n",
       " 'CTRLD_RR_PLATE_1_ID_F11.tif',\n",
       " 'CTRLD_TR_PLATE_1_ID_D11.tif',\n",
       " 'CTRLD_TR_PLATE_1_ID_B4.tif',\n",
       " 'CTRLD_RR_PLATE_6_ID_B1.tif',\n",
       " 'CTRLD_TR_PLATE_1_ID_C12.tif',\n",
       " 'CTRLD_RR_PLATE_1_ID_F2.tif',\n",
       " 'CTRLD_RR_PLATE_4_ID_D1.tif',\n",
       " 'CTRLD_RR_PLATE_1_ID_G10.tif',\n",
       " 'CTRLD_TR_PLATE_1_ID_E10.tif',\n",
       " 'CTRLD_TR_PLATE_1_ID_D2.tif',\n",
       " 'CTRLD_RR_PLATE_6_ID_A11.tif',\n",
       " 'CTRLD_RR_PLATE_4_ID_C2.tif',\n",
       " 'CTRLD_TR_PLATE_2_ID_C11.tif',\n",
       " 'CTRLD_TR_PLATE_1_ID_C3.tif',\n",
       " 'CTRLD_TR_PLATE_1_ID_A5.tif',\n",
       " 'CTRLD_TR_PLATE_2_ID_D10.tif',\n",
       " 'CTRLD_TR_PLATE_2_ID_B12.tif',\n",
       " 'CTRLD_RR_PLATE_4_ID_C11.tif',\n",
       " 'CTRLD_RR_PLATE_1_ID_C5.tif',\n",
       " 'CTRLD_RR_PLATE_4_ID_A4.tif',\n",
       " 'CTRLD_RR_PLATE_6_ID_F5.tif',\n",
       " 'CTRLD_TR_PLATE_1_ID_F8.tif',\n",
       " 'CTRLD_TR_PLATE_2_ID_H5.tif',\n",
       " 'CTRLD_RR_PLATE_4_ID_F7.tif',\n",
       " 'CTRLD_RR_PLATE_1_ID_H8.tif',\n",
       " 'CTRLD_RR_PLATE_6_ID_H3.tif',\n",
       " 'CTRLD_RR_PLATE_4_ID_D9.tif',\n",
       " 'CTRLD_TR_PLATE_2_ID_F7.tif',\n",
       " 'CTRLD_TR_PLATE_1_ID_G7.tif',\n",
       " 'CTRLD_TR_PLATE_2_ID_E8.tif',\n",
       " 'CTRLD_RR_PLATE_4_ID_G6.tif',\n",
       " 'CTRLD_RR_PLATE_1_ID_G9.tif',\n",
       " 'CTRLD_TR_PLATE_2_ID_G6.tif',\n",
       " 'CTRLD_RR_PLATE_6_ID_E6.tif',\n",
       " 'CTRLD_RR_PLATE_1_ID_D2.tif',\n",
       " 'CTRLD_RR_PLATE_4_ID_B1.tif',\n",
       " 'CTRLD_RR_PLATE_1_ID_C12.tif',\n",
       " 'CTRLD_RR_PLATE_1_ID_B4.tif',\n",
       " 'CTRLD_RR_PLATE_1_ID_E1.tif',\n",
       " 'CTRLD_RR_PLATE_1_ID_A5.tif',\n",
       " 'CTRLD_TR_PLATE_2_ID_A11.tif',\n",
       " 'CTRLD_TR_PLATE_1_ID_A3.tif',\n",
       " 'CTRLD_RR_PLATE_6_ID_H9.tif',\n",
       " 'CTRLD_RR_PLATE_4_ID_A11.tif',\n",
       " 'CTRLD_RR_PLATE_1_ID_C3.tif',\n",
       " 'CTRLD_RR_PLATE_4_ID_A2.tif',\n",
       " 'CTRLD_RR_PLATE_4_ID_B9.tif',\n",
       " 'CTRLD_RR_PLATE_6_ID_F3.tif',\n",
       " 'CTRLD_RR_PLATE_6_ID_B7.tif',\n",
       " 'CTRLD_RR_PLATE_4_ID_D7.tif',\n",
       " 'CTRLD_TR_PLATE_1_ID_H4.tif',\n",
       " 'CTRLD_RR_PLATE_1_ID_F8.tif',\n",
       " 'CTRLD_TR_PLATE_2_ID_B9.tif',\n",
       " 'CTRLD_RR_PLATE_6_ID_H1.tif',\n",
       " 'CTRLD_RR_PLATE_4_ID_H3.tif',\n",
       " 'CTRLD_TR_PLATE_2_ID_F5.tif',\n",
       " 'CTRLD_RR_PLATE_4_ID_C8.tif',\n",
       " 'CTRLD_TR_PLATE_1_ID_G5.tif',\n",
       " 'CTRLD_RR_PLATE_4_ID_H12.tif',\n",
       " 'CTRLD_RR_PLATE_6_ID_G2.tif',\n",
       " 'CTRLD_TR_PLATE_1_ID_C9.tif',\n",
       " 'CTRLD_RR_PLATE_4_ID_G4.tif',\n",
       " 'CTRLD_TR_PLATE_2_ID_E6.tif',\n",
       " 'CTRLD_RR_PLATE_6_ID_F12.tif',\n",
       " 'CTRLD_TR_PLATE_2_ID_H12.tif',\n",
       " 'CTRLD_RR_PLATE_1_ID_G7.tif',\n",
       " 'CTRLD_TR_PLATE_2_ID_C8.tif',\n",
       " 'CTRLD_RR_PLATE_6_ID_H10.tif',\n",
       " 'CTRLD_TR_PLATE_1_ID_E7.tif',\n",
       " 'CTRLD_RR_PLATE_6_ID_E4.tif',\n",
       " 'CTRLD_TR_PLATE_1_ID_F11.tif',\n",
       " 'CTRLD_TR_PLATE_1_ID_F2.tif',\n",
       " 'CTRLD_RR_PLATE_1_ID_D6.tif',\n",
       " 'CTRLD_RR_PLATE_4_ID_B5.tif',\n",
       " 'CTRLD_RR_PLATE_1_ID_H11.tif',\n",
       " 'CTRLD_TR_PLATE_1_ID_B6.tif',\n",
       " 'CTRLD_RR_PLATE_1_ID_H2.tif',\n",
       " 'CTRLD_RR_PLATE_4_ID_F1.tif',\n",
       " 'CTRLD_TR_PLATE_1_ID_G10.tif',\n",
       " 'CTRLD_RR_PLATE_1_ID_G12.tif',\n",
       " 'CTRLD_TR_PLATE_2_ID_B5.tif',\n",
       " 'CTRLD_RR_PLATE_4_ID_D3.tif',\n",
       " 'CTRLD_RR_PLATE_6_ID_D1.tif',\n",
       " 'CTRLD_TR_PLATE_1_ID_D4.tif',\n",
       " 'CTRLD_RR_PLATE_1_ID_B8.tif',\n",
       " 'CTRLD_TR_PLATE_1_ID_E12.tif',\n",
       " 'CTRLD_RR_PLATE_4_ID_D12.tif',\n",
       " 'CTRLD_RR_PLATE_1_ID_E5.tif',\n",
       " 'CTRLD_RR_PLATE_4_ID_C4.tif',\n",
       " 'CTRLD_TR_PLATE_2_ID_E11.tif',\n",
       " 'CTRLD_RR_PLATE_4_ID_F10.tif',\n",
       " 'CTRLD_RR_PLATE_6_ID_C2.tif',\n",
       " 'CTRLD_RR_PLATE_1_ID_A9.tif',\n",
       " 'CTRLD_TR_PLATE_1_ID_C5.tif',\n",
       " 'CTRLD_RR_PLATE_6_ID_C11.tif',\n",
       " 'CTRLD_RR_PLATE_4_ID_E11.tif',\n",
       " 'CTRLD_TR_PLATE_1_ID_A7.tif',\n",
       " 'CTRLD_TR_PLATE_2_ID_D12.tif',\n",
       " 'CTRLD_RR_PLATE_1_ID_G3.tif',\n",
       " 'CTRLD_RR_PLATE_4_ID_E2.tif',\n",
       " 'CTRLD_RR_PLATE_1_ID_C7.tif',\n",
       " 'CTRLD_TR_PLATE_2_ID_F10.tif',\n",
       " 'CTRLD_RR_PLATE_4_ID_A6.tif',\n",
       " 'CTRLD_RR_PLATE_6_ID_D10.tif',\n",
       " 'CTRLD_RR_PLATE_1_ID_A1.tif',\n",
       " 'CTRLD_RR_PLATE_4_ID_F9.tif',\n",
       " 'CTRLD_RR_PLATE_6_ID_H5.tif',\n",
       " 'CTRLD_TR_PLATE_1_ID_H8.tif',\n",
       " 'CTRLD_TR_PLATE_2_ID_F9.tif',\n",
       " 'CTRLD_RR_PLATE_4_ID_H7.tif',\n",
       " 'CTRLD_RR_PLATE_6_ID_G6.tif',\n",
       " 'CTRLD_TR_PLATE_1_ID_G9.tif',\n",
       " 'CTRLD_RR_PLATE_1_ID_A10.tif',\n",
       " 'CTRLD_TR_PLATE_2_ID_G8.tif']"
      ]
     },
     "execution_count": 2,
     "metadata": {},
     "output_type": "execute_result"
    }
   ],
   "source": [
    "from embed_time.transforms import complex_normalisation\n",
    "import os\n",
    "import skimage.io as io\n",
    "\n",
    "data_location = \"/mnt/efs/dlmbl/G-et/data/live-TLS\"\n",
    "\n",
    "folder_imgs = data_location +\"/\"+'Control_Dataset_4TP'\n",
    "metadata = data_location + \"/\" +'Control_Dataset_4TP_Ground_Truth'\n",
    "out_normalised = data_location + \"/\" +'Control_Dataset_4TP_Normalized'\n",
    "if not os.path.isdir(out_normalised):\n",
    "    os.mkdir(out_normalised)\n",
    "\n",
    "img_list = [path for path in os.listdir(folder_imgs) if path.endswith(\".tif\")]\n",
    "img_list\n"
   ]
  },
  {
   "cell_type": "code",
   "execution_count": 3,
   "metadata": {},
   "outputs": [
    {
     "data": {
      "text/plain": [
       "array([[177.58008, 176.13235, 176.82385, ..., 179.91472, 181.3131 ,\n",
       "        184.23067],\n",
       "       [176.80244, 176.21324, 175.5107 , ..., 180.11528, 179.73907,\n",
       "        181.74521],\n",
       "       [177.29095, 177.8136 , 177.93512, ..., 181.41336, 180.40445,\n",
       "        181.68164],\n",
       "       ...,\n",
       "       [172.38713, 173.02652, 176.30809, ..., 176.55867, 176.17668,\n",
       "        177.1237 ],\n",
       "       [175.85606, 174.04015, 174.0906 , ..., 176.68631, 174.81784,\n",
       "        176.36981],\n",
       "       [171.52225, 171.794  , 174.14056, ..., 177.49547, 175.22604,\n",
       "        177.27545]], dtype=float32)"
      ]
     },
     "execution_count": 3,
     "metadata": {},
     "output_type": "execute_result"
    }
   ],
   "source": [
    "import numpy as np\n",
    "img = io.imread(folder_imgs+\"/\"+img_list[0])\n",
    "img[0][0]"
   ]
  },
  {
   "cell_type": "code",
   "execution_count": 4,
   "metadata": {},
   "outputs": [
    {
     "name": "stdout",
     "output_type": "stream",
     "text": [
      "(312, 4, 598, 712)\n"
     ]
    }
   ],
   "source": [
    "all_bra = []\n",
    "all_bf = []\n",
    "for pth in img_list:\n",
    "    img = io.imread(folder_imgs+\"/\"+pth)\n",
    "    all_bra.append(img[:,1])\n",
    "    all_bf.append(img[:,0])\n",
    "all_bra = np.array(all_bra)\n",
    "print(all_bra.shape)"
   ]
  },
  {
   "cell_type": "code",
   "execution_count": 5,
   "metadata": {},
   "outputs": [
    {
     "data": {
      "text/plain": [
       "array([ 3.        , 36.04749891])"
      ]
     },
     "execution_count": 5,
     "metadata": {},
     "output_type": "execute_result"
    }
   ],
   "source": [
    "quantiles = np.quantile(all_bra,(0.001,0.999))\n",
    "quantiles"
   ]
  },
  {
   "cell_type": "code",
   "execution_count": 6,
   "metadata": {},
   "outputs": [
    {
     "name": "stdout",
     "output_type": "stream",
     "text": [
      "0.07376307 0.07265766\n"
     ]
    }
   ],
   "source": [
    "from skimage.exposure import rescale_intensity\n",
    "quantile_scaled = np.clip(rescale_intensity(all_bra,(quantiles[0],quantiles[1]),(0,1)),0,1)\n",
    "\n",
    "mean, stddev = np.mean(quantile_scaled), np.std(quantile_scaled)\n",
    "print(mean,stddev)\n"
   ]
  },
  {
   "cell_type": "code",
   "execution_count": 7,
   "metadata": {},
   "outputs": [
    {
     "data": {
      "text/plain": [
       "(312, 4, 598, 712)"
      ]
     },
     "execution_count": 7,
     "metadata": {},
     "output_type": "execute_result"
    }
   ],
   "source": [
    "quantile_scaled.shape"
   ]
  },
  {
   "cell_type": "code",
   "execution_count": 8,
   "metadata": {},
   "outputs": [],
   "source": [
    "def rescale_bf(img,quantiles = [0.01,0.99]):\n",
    "    min_max = np.quantile(img,quantiles)\n",
    "    rescaled = (\n",
    "        rescale_intensity(\n",
    "            img,\n",
    "            in_range=(min_max[0],min_max[1]),\n",
    "            out_range=(0,1)) -1\n",
    "    ) * -1\n",
    "    rescaled = np.clip(rescaled,0,1)\n",
    "    return rescaled\n",
    "\n",
    "out_bf = [np.expand_dims(np.array([rescale_bf(img) for img in bf_tl]),1) for bf_tl in all_bf]"
   ]
  },
  {
   "cell_type": "code",
   "execution_count": 10,
   "metadata": {},
   "outputs": [
    {
     "data": {
      "text/plain": [
       "(312, 4, 1, 598, 712)"
      ]
     },
     "execution_count": 10,
     "metadata": {},
     "output_type": "execute_result"
    }
   ],
   "source": [
    "np.array(out_bf).shape"
   ]
  },
  {
   "cell_type": "code",
   "execution_count": 8,
   "metadata": {},
   "outputs": [],
   "source": [
    "mean, stddev = np.mean(out_bf), np.std(out_bf)\n",
    "\n",
    "out_rescaled, stats_bf, stats_bra = new_normalisation(all_bf,all_bra,bf_quant=[0.01,0.99],bra_quant=[0.001,0.999])\n",
    "stats_bf"
   ]
  },
  {
   "cell_type": "code",
   "execution_count": null,
   "metadata": {},
   "outputs": [],
   "source": [
    "import matplotlib.pyplot as plt\n",
    "\n",
    "fig,axs = plt.subplots(1,4,figsize=(10,5))\n",
    "for i,ax in enumerate(axs):\n",
    "    ax.imshow(out_rescaled[0][i][0])\n",
    "plt.tight_layout()"
   ]
  },
  {
   "cell_type": "code",
   "execution_count": null,
   "metadata": {},
   "outputs": [],
   "source": [
    "import matplotlib.pyplot as plt\n",
    "\n",
    "fig,axs = plt.subplots(1,4,figsize=(10,5))\n",
    "for i,ax in enumerate(axs):\n",
    "    ax.imshow(out_rescaled[0][i][1])\n",
    "plt.tight_layout()"
   ]
  },
  {
   "cell_type": "code",
   "execution_count": 18,
   "metadata": {},
   "outputs": [
    {
     "data": {
      "text/plain": [
       "torch.Size([4, 2, 598, 712])"
      ]
     },
     "execution_count": 18,
     "metadata": {},
     "output_type": "execute_result"
    }
   ],
   "source": [
    "import torchvision.transforms as trans\n",
    "from torchvision.transforms import v2\n",
    "from embed_time.transforms import CustomToTensor\n",
    "\n",
    "\n",
    "loading_transforms = trans.Compose([\n",
    "    CustomToTensor()\n",
    "])\n",
    "\n",
    "dataset_w_t = LiveTLSDataset(\n",
    "    metadata,\n",
    "    out_normalised,\n",
    "    metadata_columns=[\"Run\",\"Plate\",\"ID\"],\n",
    "    return_metadata=True,\n",
    "    transform = loading_transforms,\n",
    ")\n",
    "\n",
    "tensor, l, m = dataset_w_t[0]\n",
    "tensor.shape\n",
    "\n",
    "# Doesn't work need to make our own to tensor"
   ]
  },
  {
   "cell_type": "code",
   "execution_count": 19,
   "metadata": {},
   "outputs": [
    {
     "data": {
      "text/plain": [
       "torch.Size([2, 598, 712])"
      ]
     },
     "execution_count": 19,
     "metadata": {},
     "output_type": "execute_result"
    }
   ],
   "source": [
    "from embed_time.transforms import SelectRandomTimepoint\n",
    "\n",
    "sel_tp = SelectRandomTimepoint(time_dimension=0)\n",
    "\n",
    "sel_tp(tensor).shape"
   ]
  },
  {
   "cell_type": "code",
   "execution_count": null,
   "metadata": {},
   "outputs": [],
   "source": []
  }
 ],
 "metadata": {
  "kernelspec": {
   "display_name": "embed_time",
   "language": "python",
   "name": "python3"
  },
  "language_info": {
   "codemirror_mode": {
    "name": "ipython",
    "version": 3
   },
   "file_extension": ".py",
   "mimetype": "text/x-python",
   "name": "python",
   "nbconvert_exporter": "python",
   "pygments_lexer": "ipython3",
   "version": "3.10.14"
  }
 },
 "nbformat": 4,
 "nbformat_minor": 2
}
