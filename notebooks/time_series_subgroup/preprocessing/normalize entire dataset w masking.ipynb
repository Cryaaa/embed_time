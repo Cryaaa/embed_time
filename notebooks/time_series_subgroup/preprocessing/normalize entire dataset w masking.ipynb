{
 "cells": [
  {
   "cell_type": "markdown",
   "metadata": {},
   "source": [
    "# Normalization Notebook\n",
    "In this notebook I normalize the whole dataset so that we do not need to do it on the fly when training the model\n",
    "Below I also test some of the transforms that were generated"
   ]
  },
  {
   "cell_type": "code",
   "execution_count": 2,
   "metadata": {},
   "outputs": [
    {
     "data": {
      "text/plain": [
       "['CTRLD_RR_PLATE_1_ID_A1.tif',\n",
       " 'CTRLD_RR_PLATE_1_ID_A10.tif',\n",
       " 'CTRLD_RR_PLATE_1_ID_A12.tif',\n",
       " 'CTRLD_RR_PLATE_1_ID_A2.tif',\n",
       " 'CTRLD_RR_PLATE_1_ID_A3.tif',\n",
       " 'CTRLD_RR_PLATE_1_ID_A4.tif',\n",
       " 'CTRLD_RR_PLATE_1_ID_A5.tif',\n",
       " 'CTRLD_RR_PLATE_1_ID_A8.tif',\n",
       " 'CTRLD_RR_PLATE_1_ID_A9.tif',\n",
       " 'CTRLD_RR_PLATE_1_ID_B1.tif',\n",
       " 'CTRLD_RR_PLATE_1_ID_B10.tif',\n",
       " 'CTRLD_RR_PLATE_1_ID_B11.tif',\n",
       " 'CTRLD_RR_PLATE_1_ID_B12.tif',\n",
       " 'CTRLD_RR_PLATE_1_ID_B2.tif',\n",
       " 'CTRLD_RR_PLATE_1_ID_B3.tif',\n",
       " 'CTRLD_RR_PLATE_1_ID_B4.tif',\n",
       " 'CTRLD_RR_PLATE_1_ID_B5.tif',\n",
       " 'CTRLD_RR_PLATE_1_ID_B7.tif',\n",
       " 'CTRLD_RR_PLATE_1_ID_B8.tif',\n",
       " 'CTRLD_RR_PLATE_1_ID_B9.tif',\n",
       " 'CTRLD_RR_PLATE_1_ID_C1.tif',\n",
       " 'CTRLD_RR_PLATE_1_ID_C10.tif',\n",
       " 'CTRLD_RR_PLATE_1_ID_C11.tif',\n",
       " 'CTRLD_RR_PLATE_1_ID_C12.tif',\n",
       " 'CTRLD_RR_PLATE_1_ID_C2.tif',\n",
       " 'CTRLD_RR_PLATE_1_ID_C3.tif',\n",
       " 'CTRLD_RR_PLATE_1_ID_C4.tif',\n",
       " 'CTRLD_RR_PLATE_1_ID_C5.tif',\n",
       " 'CTRLD_RR_PLATE_1_ID_C6.tif',\n",
       " 'CTRLD_RR_PLATE_1_ID_C7.tif',\n",
       " 'CTRLD_RR_PLATE_1_ID_C8.tif',\n",
       " 'CTRLD_RR_PLATE_1_ID_C9.tif',\n",
       " 'CTRLD_RR_PLATE_1_ID_D1.tif',\n",
       " 'CTRLD_RR_PLATE_1_ID_D10.tif',\n",
       " 'CTRLD_RR_PLATE_1_ID_D12.tif',\n",
       " 'CTRLD_RR_PLATE_1_ID_D2.tif',\n",
       " 'CTRLD_RR_PLATE_1_ID_D3.tif',\n",
       " 'CTRLD_RR_PLATE_1_ID_D4.tif',\n",
       " 'CTRLD_RR_PLATE_1_ID_D5.tif',\n",
       " 'CTRLD_RR_PLATE_1_ID_D6.tif',\n",
       " 'CTRLD_RR_PLATE_1_ID_D7.tif',\n",
       " 'CTRLD_RR_PLATE_1_ID_D8.tif',\n",
       " 'CTRLD_RR_PLATE_1_ID_D9.tif',\n",
       " 'CTRLD_RR_PLATE_1_ID_E1.tif',\n",
       " 'CTRLD_RR_PLATE_1_ID_E4.tif',\n",
       " 'CTRLD_RR_PLATE_1_ID_E5.tif',\n",
       " 'CTRLD_RR_PLATE_1_ID_E6.tif',\n",
       " 'CTRLD_RR_PLATE_1_ID_E7.tif',\n",
       " 'CTRLD_RR_PLATE_1_ID_E8.tif',\n",
       " 'CTRLD_RR_PLATE_1_ID_F1.tif',\n",
       " 'CTRLD_RR_PLATE_1_ID_F10.tif',\n",
       " 'CTRLD_RR_PLATE_1_ID_F11.tif',\n",
       " 'CTRLD_RR_PLATE_1_ID_F12.tif',\n",
       " 'CTRLD_RR_PLATE_1_ID_F2.tif',\n",
       " 'CTRLD_RR_PLATE_1_ID_F3.tif',\n",
       " 'CTRLD_RR_PLATE_1_ID_F5.tif',\n",
       " 'CTRLD_RR_PLATE_1_ID_F6.tif',\n",
       " 'CTRLD_RR_PLATE_1_ID_F7.tif',\n",
       " 'CTRLD_RR_PLATE_1_ID_F8.tif',\n",
       " 'CTRLD_RR_PLATE_1_ID_G10.tif',\n",
       " 'CTRLD_RR_PLATE_1_ID_G11.tif',\n",
       " 'CTRLD_RR_PLATE_1_ID_G12.tif',\n",
       " 'CTRLD_RR_PLATE_1_ID_G3.tif',\n",
       " 'CTRLD_RR_PLATE_1_ID_G4.tif',\n",
       " 'CTRLD_RR_PLATE_1_ID_G5.tif',\n",
       " 'CTRLD_RR_PLATE_1_ID_G6.tif',\n",
       " 'CTRLD_RR_PLATE_1_ID_G7.tif',\n",
       " 'CTRLD_RR_PLATE_1_ID_G8.tif',\n",
       " 'CTRLD_RR_PLATE_1_ID_G9.tif',\n",
       " 'CTRLD_RR_PLATE_1_ID_H10.tif',\n",
       " 'CTRLD_RR_PLATE_1_ID_H11.tif',\n",
       " 'CTRLD_RR_PLATE_1_ID_H2.tif',\n",
       " 'CTRLD_RR_PLATE_1_ID_H3.tif',\n",
       " 'CTRLD_RR_PLATE_1_ID_H4.tif',\n",
       " 'CTRLD_RR_PLATE_1_ID_H5.tif',\n",
       " 'CTRLD_RR_PLATE_1_ID_H8.tif',\n",
       " 'CTRLD_RR_PLATE_1_ID_H9.tif',\n",
       " 'CTRLD_RR_PLATE_4_ID_A1.tif',\n",
       " 'CTRLD_RR_PLATE_4_ID_A11.tif',\n",
       " 'CTRLD_RR_PLATE_4_ID_A12.tif',\n",
       " 'CTRLD_RR_PLATE_4_ID_A2.tif',\n",
       " 'CTRLD_RR_PLATE_4_ID_A3.tif',\n",
       " 'CTRLD_RR_PLATE_4_ID_A4.tif',\n",
       " 'CTRLD_RR_PLATE_4_ID_A5.tif',\n",
       " 'CTRLD_RR_PLATE_4_ID_A6.tif',\n",
       " 'CTRLD_RR_PLATE_4_ID_A7.tif',\n",
       " 'CTRLD_RR_PLATE_4_ID_A9.tif',\n",
       " 'CTRLD_RR_PLATE_4_ID_B1.tif',\n",
       " 'CTRLD_RR_PLATE_4_ID_B11.tif',\n",
       " 'CTRLD_RR_PLATE_4_ID_B2.tif',\n",
       " 'CTRLD_RR_PLATE_4_ID_B3.tif',\n",
       " 'CTRLD_RR_PLATE_4_ID_B4.tif',\n",
       " 'CTRLD_RR_PLATE_4_ID_B5.tif',\n",
       " 'CTRLD_RR_PLATE_4_ID_B6.tif',\n",
       " 'CTRLD_RR_PLATE_4_ID_B9.tif',\n",
       " 'CTRLD_RR_PLATE_4_ID_C1.tif',\n",
       " 'CTRLD_RR_PLATE_4_ID_C10.tif',\n",
       " 'CTRLD_RR_PLATE_4_ID_C11.tif',\n",
       " 'CTRLD_RR_PLATE_4_ID_C12.tif',\n",
       " 'CTRLD_RR_PLATE_4_ID_C2.tif',\n",
       " 'CTRLD_RR_PLATE_4_ID_C4.tif',\n",
       " 'CTRLD_RR_PLATE_4_ID_C5.tif',\n",
       " 'CTRLD_RR_PLATE_4_ID_C6.tif',\n",
       " 'CTRLD_RR_PLATE_4_ID_C8.tif',\n",
       " 'CTRLD_RR_PLATE_4_ID_D1.tif',\n",
       " 'CTRLD_RR_PLATE_4_ID_D11.tif',\n",
       " 'CTRLD_RR_PLATE_4_ID_D12.tif',\n",
       " 'CTRLD_RR_PLATE_4_ID_D2.tif',\n",
       " 'CTRLD_RR_PLATE_4_ID_D3.tif',\n",
       " 'CTRLD_RR_PLATE_4_ID_D6.tif',\n",
       " 'CTRLD_RR_PLATE_4_ID_D7.tif',\n",
       " 'CTRLD_RR_PLATE_4_ID_D8.tif',\n",
       " 'CTRLD_RR_PLATE_4_ID_D9.tif',\n",
       " 'CTRLD_RR_PLATE_4_ID_E1.tif',\n",
       " 'CTRLD_RR_PLATE_4_ID_E11.tif',\n",
       " 'CTRLD_RR_PLATE_4_ID_E12.tif',\n",
       " 'CTRLD_RR_PLATE_4_ID_E2.tif',\n",
       " 'CTRLD_RR_PLATE_4_ID_E3.tif',\n",
       " 'CTRLD_RR_PLATE_4_ID_E9.tif',\n",
       " 'CTRLD_RR_PLATE_4_ID_F1.tif',\n",
       " 'CTRLD_RR_PLATE_4_ID_F10.tif',\n",
       " 'CTRLD_RR_PLATE_4_ID_F2.tif',\n",
       " 'CTRLD_RR_PLATE_4_ID_F7.tif',\n",
       " 'CTRLD_RR_PLATE_4_ID_F8.tif',\n",
       " 'CTRLD_RR_PLATE_4_ID_F9.tif',\n",
       " 'CTRLD_RR_PLATE_4_ID_G1.tif',\n",
       " 'CTRLD_RR_PLATE_4_ID_G10.tif',\n",
       " 'CTRLD_RR_PLATE_4_ID_G11.tif',\n",
       " 'CTRLD_RR_PLATE_4_ID_G12.tif',\n",
       " 'CTRLD_RR_PLATE_4_ID_G2.tif',\n",
       " 'CTRLD_RR_PLATE_4_ID_G4.tif',\n",
       " 'CTRLD_RR_PLATE_4_ID_G5.tif',\n",
       " 'CTRLD_RR_PLATE_4_ID_G6.tif',\n",
       " 'CTRLD_RR_PLATE_4_ID_G7.tif',\n",
       " 'CTRLD_RR_PLATE_4_ID_G9.tif',\n",
       " 'CTRLD_RR_PLATE_4_ID_H10.tif',\n",
       " 'CTRLD_RR_PLATE_4_ID_H11.tif',\n",
       " 'CTRLD_RR_PLATE_4_ID_H12.tif',\n",
       " 'CTRLD_RR_PLATE_4_ID_H2.tif',\n",
       " 'CTRLD_RR_PLATE_4_ID_H3.tif',\n",
       " 'CTRLD_RR_PLATE_4_ID_H4.tif',\n",
       " 'CTRLD_RR_PLATE_4_ID_H6.tif',\n",
       " 'CTRLD_RR_PLATE_4_ID_H7.tif',\n",
       " 'CTRLD_RR_PLATE_4_ID_H8.tif',\n",
       " 'CTRLD_RR_PLATE_4_ID_H9.tif',\n",
       " 'CTRLD_RR_PLATE_6_ID_A10.tif',\n",
       " 'CTRLD_RR_PLATE_6_ID_A11.tif',\n",
       " 'CTRLD_RR_PLATE_6_ID_A12.tif',\n",
       " 'CTRLD_RR_PLATE_6_ID_A3.tif',\n",
       " 'CTRLD_RR_PLATE_6_ID_A5.tif',\n",
       " 'CTRLD_RR_PLATE_6_ID_A6.tif',\n",
       " 'CTRLD_RR_PLATE_6_ID_A7.tif',\n",
       " 'CTRLD_RR_PLATE_6_ID_A9.tif',\n",
       " 'CTRLD_RR_PLATE_6_ID_B1.tif',\n",
       " 'CTRLD_RR_PLATE_6_ID_B11.tif',\n",
       " 'CTRLD_RR_PLATE_6_ID_B2.tif',\n",
       " 'CTRLD_RR_PLATE_6_ID_B6.tif',\n",
       " 'CTRLD_RR_PLATE_6_ID_B7.tif',\n",
       " 'CTRLD_RR_PLATE_6_ID_C1.tif',\n",
       " 'CTRLD_RR_PLATE_6_ID_C10.tif',\n",
       " 'CTRLD_RR_PLATE_6_ID_C11.tif',\n",
       " 'CTRLD_RR_PLATE_6_ID_C12.tif',\n",
       " 'CTRLD_RR_PLATE_6_ID_C2.tif',\n",
       " 'CTRLD_RR_PLATE_6_ID_C3.tif',\n",
       " 'CTRLD_RR_PLATE_6_ID_C5.tif',\n",
       " 'CTRLD_RR_PLATE_6_ID_C9.tif',\n",
       " 'CTRLD_RR_PLATE_6_ID_D1.tif',\n",
       " 'CTRLD_RR_PLATE_6_ID_D10.tif',\n",
       " 'CTRLD_RR_PLATE_6_ID_D11.tif',\n",
       " 'CTRLD_RR_PLATE_6_ID_D12.tif',\n",
       " 'CTRLD_RR_PLATE_6_ID_D3.tif',\n",
       " 'CTRLD_RR_PLATE_6_ID_D8.tif',\n",
       " 'CTRLD_RR_PLATE_6_ID_E1.tif',\n",
       " 'CTRLD_RR_PLATE_6_ID_E10.tif',\n",
       " 'CTRLD_RR_PLATE_6_ID_E11.tif',\n",
       " 'CTRLD_RR_PLATE_6_ID_E12.tif',\n",
       " 'CTRLD_RR_PLATE_6_ID_E2.tif',\n",
       " 'CTRLD_RR_PLATE_6_ID_E3.tif',\n",
       " 'CTRLD_RR_PLATE_6_ID_E4.tif',\n",
       " 'CTRLD_RR_PLATE_6_ID_E6.tif',\n",
       " 'CTRLD_RR_PLATE_6_ID_E9.tif',\n",
       " 'CTRLD_RR_PLATE_6_ID_F1.tif',\n",
       " 'CTRLD_RR_PLATE_6_ID_F12.tif',\n",
       " 'CTRLD_RR_PLATE_6_ID_F2.tif',\n",
       " 'CTRLD_RR_PLATE_6_ID_F3.tif',\n",
       " 'CTRLD_RR_PLATE_6_ID_F4.tif',\n",
       " 'CTRLD_RR_PLATE_6_ID_F5.tif',\n",
       " 'CTRLD_RR_PLATE_6_ID_F9.tif',\n",
       " 'CTRLD_RR_PLATE_6_ID_G12.tif',\n",
       " 'CTRLD_RR_PLATE_6_ID_G2.tif',\n",
       " 'CTRLD_RR_PLATE_6_ID_G6.tif',\n",
       " 'CTRLD_RR_PLATE_6_ID_H1.tif',\n",
       " 'CTRLD_RR_PLATE_6_ID_H10.tif',\n",
       " 'CTRLD_RR_PLATE_6_ID_H2.tif',\n",
       " 'CTRLD_RR_PLATE_6_ID_H3.tif',\n",
       " 'CTRLD_RR_PLATE_6_ID_H5.tif',\n",
       " 'CTRLD_RR_PLATE_6_ID_H6.tif',\n",
       " 'CTRLD_RR_PLATE_6_ID_H7.tif',\n",
       " 'CTRLD_RR_PLATE_6_ID_H8.tif',\n",
       " 'CTRLD_RR_PLATE_6_ID_H9.tif',\n",
       " 'CTRLD_TR_PLATE_1_ID_A11.tif',\n",
       " 'CTRLD_TR_PLATE_1_ID_A3.tif',\n",
       " 'CTRLD_TR_PLATE_1_ID_A5.tif',\n",
       " 'CTRLD_TR_PLATE_1_ID_A6.tif',\n",
       " 'CTRLD_TR_PLATE_1_ID_A7.tif',\n",
       " 'CTRLD_TR_PLATE_1_ID_A8.tif',\n",
       " 'CTRLD_TR_PLATE_1_ID_B3.tif',\n",
       " 'CTRLD_TR_PLATE_1_ID_B4.tif',\n",
       " 'CTRLD_TR_PLATE_1_ID_B5.tif',\n",
       " 'CTRLD_TR_PLATE_1_ID_B6.tif',\n",
       " 'CTRLD_TR_PLATE_1_ID_B7.tif',\n",
       " 'CTRLD_TR_PLATE_1_ID_B8.tif',\n",
       " 'CTRLD_TR_PLATE_1_ID_C12.tif',\n",
       " 'CTRLD_TR_PLATE_1_ID_C3.tif',\n",
       " 'CTRLD_TR_PLATE_1_ID_C4.tif',\n",
       " 'CTRLD_TR_PLATE_1_ID_C5.tif',\n",
       " 'CTRLD_TR_PLATE_1_ID_C6.tif',\n",
       " 'CTRLD_TR_PLATE_1_ID_C7.tif',\n",
       " 'CTRLD_TR_PLATE_1_ID_C8.tif',\n",
       " 'CTRLD_TR_PLATE_1_ID_C9.tif',\n",
       " 'CTRLD_TR_PLATE_1_ID_D10.tif',\n",
       " 'CTRLD_TR_PLATE_1_ID_D11.tif',\n",
       " 'CTRLD_TR_PLATE_1_ID_D2.tif',\n",
       " 'CTRLD_TR_PLATE_1_ID_D3.tif',\n",
       " 'CTRLD_TR_PLATE_1_ID_D4.tif',\n",
       " 'CTRLD_TR_PLATE_1_ID_D5.tif',\n",
       " 'CTRLD_TR_PLATE_1_ID_D9.tif',\n",
       " 'CTRLD_TR_PLATE_1_ID_E10.tif',\n",
       " 'CTRLD_TR_PLATE_1_ID_E11.tif',\n",
       " 'CTRLD_TR_PLATE_1_ID_E12.tif',\n",
       " 'CTRLD_TR_PLATE_1_ID_E2.tif',\n",
       " 'CTRLD_TR_PLATE_1_ID_E4.tif',\n",
       " 'CTRLD_TR_PLATE_1_ID_E5.tif',\n",
       " 'CTRLD_TR_PLATE_1_ID_E6.tif',\n",
       " 'CTRLD_TR_PLATE_1_ID_E7.tif',\n",
       " 'CTRLD_TR_PLATE_1_ID_E8.tif',\n",
       " 'CTRLD_TR_PLATE_1_ID_F10.tif',\n",
       " 'CTRLD_TR_PLATE_1_ID_F11.tif',\n",
       " 'CTRLD_TR_PLATE_1_ID_F12.tif',\n",
       " 'CTRLD_TR_PLATE_1_ID_F2.tif',\n",
       " 'CTRLD_TR_PLATE_1_ID_F3.tif',\n",
       " 'CTRLD_TR_PLATE_1_ID_F8.tif',\n",
       " 'CTRLD_TR_PLATE_1_ID_F9.tif',\n",
       " 'CTRLD_TR_PLATE_1_ID_G10.tif',\n",
       " 'CTRLD_TR_PLATE_1_ID_G11.tif',\n",
       " 'CTRLD_TR_PLATE_1_ID_G12.tif',\n",
       " 'CTRLD_TR_PLATE_1_ID_G3.tif',\n",
       " 'CTRLD_TR_PLATE_1_ID_G5.tif',\n",
       " 'CTRLD_TR_PLATE_1_ID_G7.tif',\n",
       " 'CTRLD_TR_PLATE_1_ID_G9.tif',\n",
       " 'CTRLD_TR_PLATE_1_ID_H10.tif',\n",
       " 'CTRLD_TR_PLATE_1_ID_H11.tif',\n",
       " 'CTRLD_TR_PLATE_1_ID_H12.tif',\n",
       " 'CTRLD_TR_PLATE_1_ID_H2.tif',\n",
       " 'CTRLD_TR_PLATE_1_ID_H3.tif',\n",
       " 'CTRLD_TR_PLATE_1_ID_H4.tif',\n",
       " 'CTRLD_TR_PLATE_1_ID_H5.tif',\n",
       " 'CTRLD_TR_PLATE_1_ID_H7.tif',\n",
       " 'CTRLD_TR_PLATE_1_ID_H8.tif',\n",
       " 'CTRLD_TR_PLATE_1_ID_H9.tif',\n",
       " 'CTRLD_TR_PLATE_2_ID_A10.tif',\n",
       " 'CTRLD_TR_PLATE_2_ID_A11.tif',\n",
       " 'CTRLD_TR_PLATE_2_ID_A12.tif',\n",
       " 'CTRLD_TR_PLATE_2_ID_A5.tif',\n",
       " 'CTRLD_TR_PLATE_2_ID_A9.tif',\n",
       " 'CTRLD_TR_PLATE_2_ID_B12.tif',\n",
       " 'CTRLD_TR_PLATE_2_ID_B4.tif',\n",
       " 'CTRLD_TR_PLATE_2_ID_B5.tif',\n",
       " 'CTRLD_TR_PLATE_2_ID_B6.tif',\n",
       " 'CTRLD_TR_PLATE_2_ID_B7.tif',\n",
       " 'CTRLD_TR_PLATE_2_ID_B8.tif',\n",
       " 'CTRLD_TR_PLATE_2_ID_B9.tif',\n",
       " 'CTRLD_TR_PLATE_2_ID_C10.tif',\n",
       " 'CTRLD_TR_PLATE_2_ID_C11.tif',\n",
       " 'CTRLD_TR_PLATE_2_ID_C12.tif',\n",
       " 'CTRLD_TR_PLATE_2_ID_C8.tif',\n",
       " 'CTRLD_TR_PLATE_2_ID_C9.tif',\n",
       " 'CTRLD_TR_PLATE_2_ID_D10.tif',\n",
       " 'CTRLD_TR_PLATE_2_ID_D11.tif',\n",
       " 'CTRLD_TR_PLATE_2_ID_D12.tif',\n",
       " 'CTRLD_TR_PLATE_2_ID_D4.tif',\n",
       " 'CTRLD_TR_PLATE_2_ID_D5.tif',\n",
       " 'CTRLD_TR_PLATE_2_ID_D6.tif',\n",
       " 'CTRLD_TR_PLATE_2_ID_E10.tif',\n",
       " 'CTRLD_TR_PLATE_2_ID_E11.tif',\n",
       " 'CTRLD_TR_PLATE_2_ID_E12.tif',\n",
       " 'CTRLD_TR_PLATE_2_ID_E3.tif',\n",
       " 'CTRLD_TR_PLATE_2_ID_E4.tif',\n",
       " 'CTRLD_TR_PLATE_2_ID_E6.tif',\n",
       " 'CTRLD_TR_PLATE_2_ID_E7.tif',\n",
       " 'CTRLD_TR_PLATE_2_ID_E8.tif',\n",
       " 'CTRLD_TR_PLATE_2_ID_E9.tif',\n",
       " 'CTRLD_TR_PLATE_2_ID_F10.tif',\n",
       " 'CTRLD_TR_PLATE_2_ID_F11.tif',\n",
       " 'CTRLD_TR_PLATE_2_ID_F12.tif',\n",
       " 'CTRLD_TR_PLATE_2_ID_F3.tif',\n",
       " 'CTRLD_TR_PLATE_2_ID_F4.tif',\n",
       " 'CTRLD_TR_PLATE_2_ID_F5.tif',\n",
       " 'CTRLD_TR_PLATE_2_ID_F6.tif',\n",
       " 'CTRLD_TR_PLATE_2_ID_F7.tif',\n",
       " 'CTRLD_TR_PLATE_2_ID_F8.tif',\n",
       " 'CTRLD_TR_PLATE_2_ID_F9.tif',\n",
       " 'CTRLD_TR_PLATE_2_ID_G5.tif',\n",
       " 'CTRLD_TR_PLATE_2_ID_G6.tif',\n",
       " 'CTRLD_TR_PLATE_2_ID_G7.tif',\n",
       " 'CTRLD_TR_PLATE_2_ID_G8.tif',\n",
       " 'CTRLD_TR_PLATE_2_ID_G9.tif',\n",
       " 'CTRLD_TR_PLATE_2_ID_H11.tif',\n",
       " 'CTRLD_TR_PLATE_2_ID_H12.tif',\n",
       " 'CTRLD_TR_PLATE_2_ID_H4.tif',\n",
       " 'CTRLD_TR_PLATE_2_ID_H5.tif',\n",
       " 'CTRLD_TR_PLATE_2_ID_H9.tif']"
      ]
     },
     "execution_count": 2,
     "metadata": {},
     "output_type": "execute_result"
    }
   ],
   "source": [
    "# from embed_time.transforms import complex_normalisation\n",
    "import os\n",
    "import skimage.io as io\n",
    "\n",
    "data_location = r\"D:\\Data\\DLMBL\"\n",
    "\n",
    "folder_imgs = data_location +\"/\"+'Control_Dataset_4TP_wMask'\n",
    "metadata = data_location + \"/\" +'Control_Dataset_4TP_Ground_Truth'\n",
    "out_normalised = data_location + \"/\" +'Control_Dataset_4TP_Masked_PPNorm'\n",
    "if not os.path.isdir(out_normalised):\n",
    "    os.mkdir(out_normalised)\n",
    "\n",
    "img_list = [path for path in os.listdir(folder_imgs) if path.endswith(\".tif\")]\n",
    "img_list\n"
   ]
  },
  {
   "cell_type": "code",
   "execution_count": 3,
   "metadata": {},
   "outputs": [
    {
     "data": {
      "text/plain": [
       "array([[183.81998  ,   4.       ,   0.       ],\n",
       "       [183.23395  ,   4.5434537,   0.       ],\n",
       "       [182.72585  ,   4.       ,   0.       ],\n",
       "       ...,\n",
       "       [184.04662  ,   4.688187 ,   0.       ],\n",
       "       [184.52338  ,   4.6914134,   0.       ],\n",
       "       [183.96887  ,   4.       ,   0.       ]], dtype=float32)"
      ]
     },
     "execution_count": 3,
     "metadata": {},
     "output_type": "execute_result"
    }
   ],
   "source": [
    "import numpy as np\n",
    "img = io.imread(folder_imgs+\"/\"+img_list[0])\n",
    "img[0][0]"
   ]
  },
  {
   "cell_type": "code",
   "execution_count": 4,
   "metadata": {},
   "outputs": [
    {
     "data": {
      "text/plain": [
       "(4, 598, 712, 3)"
      ]
     },
     "execution_count": 4,
     "metadata": {},
     "output_type": "execute_result"
    }
   ],
   "source": [
    "img.shape"
   ]
  },
  {
   "cell_type": "code",
   "execution_count": 5,
   "metadata": {},
   "outputs": [
    {
     "name": "stdout",
     "output_type": "stream",
     "text": [
      "(312, 4, 598, 712)\n"
     ]
    }
   ],
   "source": [
    "all_bra = []\n",
    "all_bf = []\n",
    "all_mask = []\n",
    "for pth in img_list:\n",
    "    img = np.moveaxis(io.imread(folder_imgs+\"/\"+pth),3,0) \n",
    "    all_bra.append(img[1])\n",
    "    all_bf.append(img[0])\n",
    "    all_mask.append(img[2])\n",
    "all_bra = np.array(all_bra)\n",
    "print(all_bra.shape)"
   ]
  },
  {
   "cell_type": "code",
   "execution_count": 7,
   "metadata": {},
   "outputs": [
    {
     "data": {
      "text/plain": [
       "(312, 4, 1, 598, 712)"
      ]
     },
     "execution_count": 7,
     "metadata": {},
     "output_type": "execute_result"
    }
   ],
   "source": [
    "from skimage.exposure import rescale_intensity\n",
    "\n",
    "def rescale_bra(bra_tl,quantiles = [0.001,0.999]):\n",
    "    min_max = np.quantile(bra_tl,quantiles)\n",
    "    rescaled = rescale_intensity(\n",
    "        bra_tl,\n",
    "        in_range=(min_max[0],min_max[1]),\n",
    "        out_range=(0,1)\n",
    "    )\n",
    "    return rescaled\n",
    "\n",
    "out_bra = np.array([np.expand_dims(rescale_bra(bra_tl),1) for bra_tl in all_bra])\n",
    "out_bra.shape"
   ]
  },
  {
   "cell_type": "code",
   "execution_count": 8,
   "metadata": {},
   "outputs": [],
   "source": [
    "def rescale_bf(img,quantiles = [0.01,0.99]):\n",
    "    min_max = np.quantile(img,quantiles)\n",
    "    rescaled = (\n",
    "        rescale_intensity(\n",
    "            img,\n",
    "            in_range=(min_max[0],min_max[1]),\n",
    "            out_range=(0,1)) -1\n",
    "    ) * -1\n",
    "    rescaled = np.clip(rescaled,0,1)\n",
    "    return rescaled\n",
    "\n",
    "out_bf = [np.expand_dims(np.array([rescale_bf(img) for img in bf_tl]),1) for bf_tl in all_bf]"
   ]
  },
  {
   "cell_type": "code",
   "execution_count": 9,
   "metadata": {},
   "outputs": [
    {
     "data": {
      "text/plain": [
       "(312, 4, 1, 598, 712)"
      ]
     },
     "execution_count": 9,
     "metadata": {},
     "output_type": "execute_result"
    }
   ],
   "source": [
    "np.array(out_bf).shape"
   ]
  },
  {
   "cell_type": "code",
   "execution_count": 13,
   "metadata": {},
   "outputs": [
    {
     "data": {
      "text/plain": [
       "(312, 4, 1, 598, 712)"
      ]
     },
     "execution_count": 13,
     "metadata": {},
     "output_type": "execute_result"
    }
   ],
   "source": [
    "from skimage.morphology import disk, binary_dilation\n",
    "from skimage.filters import gaussian\n",
    "\n",
    "size = 25\n",
    "strele = disk(size)\n",
    "\n",
    "masks_dilated = np.array(\n",
    "    [\n",
    "        np.expand_dims(\n",
    "            [gaussian(binary_dilation(msk,strele),sigma=size) for msk in msk_tl],\n",
    "            1,\n",
    "        ) for msk_tl in all_mask\n",
    "    ]\n",
    ")\n",
    "masks_dilated.shape"
   ]
  },
  {
   "cell_type": "code",
   "execution_count": 17,
   "metadata": {},
   "outputs": [
    {
     "data": {
      "image/png": "[encoded data removed]",
      "text/plain": [
       "<Figure size 1000x500 with 4 Axes>"
      ]
     },
     "metadata": {},
     "output_type": "display_data"
    }
   ],
   "source": [
    "import matplotlib.pyplot as plt\n",
    "\n",
    "fig,axs = plt.subplots(1,4,figsize=(10,5))\n",
    "for i,ax in enumerate(axs):\n",
    "    ax.imshow(\n",
    "        (out_bf * masks_dilated)[0][i][0],\n",
    "        clim = [0,1]\n",
    "    )\n",
    "plt.tight_layout()"
   ]
  },
  {
   "cell_type": "code",
   "execution_count": 18,
   "metadata": {},
   "outputs": [
    {
     "data": {
      "image/png": "[encoded data removed]",
      "text/plain": [
       "<Figure size 1000x500 with 4 Axes>"
      ]
     },
     "metadata": {},
     "output_type": "display_data"
    }
   ],
   "source": [
    "import matplotlib.pyplot as plt\n",
    "\n",
    "fig,axs = plt.subplots(1,4,figsize=(10,5))\n",
    "for i,ax in enumerate(axs):\n",
    "    ax.imshow(\n",
    "        (out_bra * masks_dilated)[0][i][0],\n",
    "        clim = [0,1])\n",
    "plt.tight_layout()"
   ]
  },
  {
   "cell_type": "code",
   "execution_count": 20,
   "metadata": {},
   "outputs": [
    {
     "name": "stderr",
     "output_type": "stream",
     "text": [
      "C:\\Users\\savill\\AppData\\Local\\Temp\\ipykernel_28488\\1171121301.py:9: DeprecationWarning: <tifffile.imsave> is deprecated. Use tifffile.imwrite\n",
      "  imsave(out_normalised+\"/\"+pth,norm)\n"
     ]
    }
   ],
   "source": [
    "from tifffile import imsave\n",
    "\n",
    "out_normalised = data_location + \"/\" +'Control_Dataset_4TP_Normalized_wMask'\n",
    "if not os.path.isdir(out_normalised):\n",
    "    os.mkdir(out_normalised)\n",
    "    \n",
    "for bf_tl, bra_tl, pth in zip(out_bf * masks_dilated,out_bra * masks_dilated,img_list):\n",
    "    norm = np.concatenate((bf_tl,bra_tl),axis=1)\n",
    "    imsave(out_normalised+\"/\"+pth,norm)"
   ]
  }
 ],
 "metadata": {
  "kernelspec": {
   "display_name": "embed_time",
   "language": "python",
   "name": "python3"
  },
  "language_info": {
   "codemirror_mode": {
    "name": "ipython",
    "version": 3
   },
   "file_extension": ".py",
   "mimetype": "text/x-python",
   "name": "python",
   "nbconvert_exporter": "python",
   "pygments_lexer": "ipython3",
   "version": "3.9.19"
  }
 },
 "nbformat": 4,
 "nbformat_minor": 2
}
