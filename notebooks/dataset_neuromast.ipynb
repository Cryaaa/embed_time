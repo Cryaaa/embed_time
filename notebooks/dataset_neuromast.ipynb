{
 "cells": [
  {
   "cell_type": "code",
   "execution_count": 6,
   "metadata": {},
   "outputs": [],
   "source": [
    "from iohub.ngff import open_ome_zarr\n",
    "from natsort import natsorted\n",
    "from glob import glob\n",
    "from pathlib import Path \n",
    "import torch\n",
    "from torch.utils.data import Dataset\n",
    "\n",
    "\n",
    "zarr_dir = \"/mnt/efs/dlmbl/G-et/data/neuromast/Dataset/\"\n",
    "# defines input zarr file name with the zarr file structure\n",
    "zarr_file = 'structured_celltype_classifier_data.zarr/*/*/*'\n",
    "position_paths = natsorted(glob(zarr_dir + zarr_file))\n",
    "# print(position_paths)\n"
   ]
  },
  {
   "cell_type": "code",
   "execution_count": 4,
   "metadata": {},
   "outputs": [
    {
     "name": "stdout",
     "output_type": "stream",
     "text": [
      "Number of positions:  1000\n"
     ]
    }
   ],
   "source": [
    "print(\"Number of positions: \", len(position_paths))"
   ]
  },
  {
   "cell_type": "code",
   "execution_count": 16,
   "metadata": {},
   "outputs": [
    {
     "data": {
      "text/plain": [
       "2"
      ]
     },
     "execution_count": 16,
     "metadata": {},
     "output_type": "execute_result"
    }
   ],
   "source": [
    "dataset = open_ome_zarr(position_paths[0], mode=\"r\")\n",
    "dataset.data.shape\n",
    "all_chan = dataset.channel_names\n",
    "chan = 'celltypes'\n",
    "all_chan.index(chan)"
   ]
  },
  {
   "cell_type": "code",
   "execution_count": 20,
   "metadata": {},
   "outputs": [],
   "source": [
    "class NeuromastDataset(Dataset):\n",
    "    def __init__(self, file_path, class_channel: str = 'celltypes'):\n",
    "        self.file_path = file_path\n",
    "        #get the class index\n",
    "        dataset = open_ome_zarr(self.file_path[0], mode=\"r\")\n",
    "        all_chan = dataset.channel_names\n",
    "        self.c = all_chan.index(class_channel)\n",
    "        \n",
    "\n",
    "    def __len__(self):\n",
    "        return len(self.file_path)\n",
    "\n",
    "    def __getitem__(self, idx):\n",
    "        dataset = open_ome_zarr(position_paths[idx], mode=\"r\")\n",
    "        image = dataset.data[:,0:self.c,:,:,:]\n",
    "        label = dataset.data[:,self.c:self.c+1,:,:,:]\n",
    "        return image, label\n",
    "\n",
    "        \n"
   ]
  },
  {
   "cell_type": "code",
   "execution_count": 21,
   "metadata": {},
   "outputs": [
    {
     "name": "stdout",
     "output_type": "stream",
     "text": [
      "(1, 3, 73, 1024, 1024)\n",
      "(1, 1, 73, 1024, 1024)\n"
     ]
    }
   ],
   "source": [
    "neuromast = NeuromastDataset(position_paths, class_channel='celltypes')\n",
    "print(neuromast[0][0].shape)\n",
    "print(neuromast[0][1].shape)"
   ]
  }
 ],
 "metadata": {
  "kernelspec": {
   "display_name": "embed_time",
   "language": "python",
   "name": "python3"
  },
  "language_info": {
   "codemirror_mode": {
    "name": "ipython",
    "version": 3
   },
   "file_extension": ".py",
   "mimetype": "text/x-python",
   "name": "python",
   "nbconvert_exporter": "python",
   "pygments_lexer": "ipython3",
   "version": "3.10.14"
  }
 },
 "nbformat": 4,
 "nbformat_minor": 2
}
